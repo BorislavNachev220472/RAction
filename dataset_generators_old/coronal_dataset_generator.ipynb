{
 "cells": [
  {
   "cell_type": "code",
   "execution_count": 1,
   "metadata": {},
   "outputs": [
    {
     "name": "stderr",
     "output_type": "stream",
     "text": [
      "100%|██████████| 8473/8473 [00:00<00:00, 111374.37it/s]\n"
     ]
    }
   ],
   "source": [
    "import os\n",
    "import numpy as np\n",
    "import trimesh\n",
    "from tqdm import tqdm\n",
    "from concurrent.futures import ThreadPoolExecutor, as_completed\n",
    "\n",
    "def get_voxel_matrix(mesh):\n",
    "    voxel = mesh.voxelized(pitch=1.0 / 64)\n",
    "    voxel_matrix = voxel.matrix.astype(np.float32)\n",
    "    dimension = 512\n",
    "    target_shape = (dimension, dimension, dimension)\n",
    "    \n",
    "    # Initialize a padded matrix with zeros\n",
    "    padded_matrix = np.zeros(target_shape, dtype=np.float32)\n",
    "    offset = 128\n",
    "\n",
    "    # Ensure we don't go out of bounds\n",
    "    if voxel_matrix.shape[0] + offset > dimension:\n",
    "        offset = dimension - voxel_matrix.shape[0]\n",
    "    if voxel_matrix.shape[1] + offset > dimension:\n",
    "        offset = dimension - voxel_matrix.shape[1]\n",
    "    if voxel_matrix.shape[2] + offset > dimension:\n",
    "        offset = dimension - voxel_matrix.shape[2]\n",
    "\n",
    "    # Place the original matrix in the padded matrix\n",
    "    padded_matrix[offset:offset + voxel_matrix.shape[0],\n",
    "                  offset:offset + voxel_matrix.shape[1],\n",
    "                  offset:offset + voxel_matrix.shape[2]] = voxel_matrix\n",
    "    \n",
    "    padded_voxelized = trimesh.voxel.VoxelGrid(padded_matrix)\n",
    "    return padded_voxelized.matrix.astype(np.float32)\n",
    "\n",
    "def get_coronal_view(voxel_matrix):\n",
    "    # Use numpy's transpose to avoid loop\n",
    "    coronal_grid = np.transpose(voxel_matrix, (1, 0, 2))\n",
    "    return coronal_grid\n",
    "\n",
    "def get_item_data(mesh):\n",
    "    voxel_matrix = get_voxel_matrix(mesh)\n",
    "    return get_coronal_view(voxel_matrix)\n",
    "\n",
    "def process_file(filename):\n",
    "    mesh = trimesh.load_mesh('dataset_3d/train/train/' + filename)\n",
    "    ground_truth = trimesh.load_mesh('dataset_3d/ground_truth/ground_truth/' + filename)\n",
    "\n",
    "    coronal_grid = get_item_data(mesh)\n",
    "    gt_coronal_grid = get_item_data(ground_truth)\n",
    "\n",
    "    base_filename = filename.split('.')[0]\n",
    "    np.save(f'coronal_dataset/train/{base_filename}.npy', coronal_grid)\n",
    "    np.save(f'coronal_dataset/ground_truth/{base_filename}.npy', gt_coronal_grid)\n",
    "\n",
    "os.makedirs('coronal_dataset', exist_ok=True)\n",
    "os.makedirs('coronal_dataset/train', exist_ok=True)\n",
    "os.makedirs('coronal_dataset/ground_truth', exist_ok=True)\n",
    "\n",
    "# Create a thread pool to process files concurrently\n",
    "with ThreadPoolExecutor() as executor:\n",
    "    futures = []\n",
    "    for filename in tqdm(os.listdir('dataset_3d/train/train')):\n",
    "        futures.append(executor.submit(process_file, filename))\n",
    "\n",
    "    # Optionally wait for all futures to complete and handle exceptions\n",
    "    for future in as_completed(futures):\n",
    "        try:\n",
    "            future.result()  # This will raise any exception caught during processing\n",
    "        except Exception as e:\n",
    "            print(f'Error processing file: {e}')\n"
   ]
  }
 ],
 "metadata": {
  "kernelspec": {
   "display_name": "specifix-rl",
   "language": "python",
   "name": "python3"
  },
  "language_info": {
   "codemirror_mode": {
    "name": "ipython",
    "version": 3
   },
   "file_extension": ".py",
   "mimetype": "text/x-python",
   "name": "python",
   "nbconvert_exporter": "python",
   "pygments_lexer": "ipython3",
   "version": "3.9.19"
  }
 },
 "nbformat": 4,
 "nbformat_minor": 2
}
