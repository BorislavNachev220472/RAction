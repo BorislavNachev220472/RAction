{
 "cells": [
  {
   "cell_type": "code",
   "execution_count": 1,
   "id": "f959786d-906c-455f-bbbe-137531affbfb",
   "metadata": {},
   "outputs": [
    {
     "name": "stdout",
     "output_type": "stream",
     "text": [
      "True\n"
     ]
    }
   ],
   "source": [
    "import torch\n",
    "\n",
    "print(torch.cuda.is_available())"
   ]
  },
  {
   "cell_type": "code",
   "execution_count": 2,
   "id": "15fa2906-ab52-4ca2-9329-346c281cf7e0",
   "metadata": {},
   "outputs": [
    {
     "name": "stdout",
     "output_type": "stream",
     "text": [
      "nnUNet_raw=/workspace/2024-25ab-fai3-specialisation-project-team-specifix-1/data/segmentation/nnUNet_raw\n",
      "nnUNet_preprocessed=/workspace/2024-25ab-fai3-specialisation-project-team-specifix-1/data/segmentation/nnUNet_preprocessed\n",
      "nnUNet_results=/workspace/2024-25ab-fai3-specialisation-project-team-specifix-1/data/segmentation/nnUNet_results\n",
      "\n"
     ]
    }
   ],
   "source": [
    "data = {\n",
    "'nnUNet_raw':'/workspace/2024-25ab-fai3-specialisation-project-team-specifix-1/data/segmentation/nnUNet_raw',\n",
    "'nnUNet_preprocessed':'/workspace/2024-25ab-fai3-specialisation-project-team-specifix-1/data/segmentation/nnUNet_preprocessed',\n",
    "'nnUNet_results':'/workspace/2024-25ab-fai3-specialisation-project-team-specifix-1/data/segmentation/nnUNet_results'\n",
    "}\n",
    "\n",
    "with open('.env', 'w') as file:\n",
    "    for key in data:\n",
    "        file.write(f'{key}={data[key]}\\n')\n",
    "\n",
    "with open('.env', 'r') as file:\n",
    "    cf = file.read()\n",
    "print(cf)"
   ]
  },
  {
   "cell_type": "code",
   "execution_count": 3,
   "id": "e95cbec4-faba-4f1d-b5de-c8332029095f",
   "metadata": {},
   "outputs": [
    {
     "data": {
      "text/plain": [
       "True"
      ]
     },
     "execution_count": 3,
     "metadata": {},
     "output_type": "execute_result"
    }
   ],
   "source": [
    "import os\n",
    "from dotenv import load_dotenv\n",
    "import subprocess\n",
    " \n",
    "   # Load environment variables from .env file\n",
    "load_dotenv(override=True)"
   ]
  },
  {
   "cell_type": "code",
   "execution_count": 4,
   "id": "9ad0f084-0acc-403c-811e-ae4b249c300f",
   "metadata": {
    "scrolled": true
   },
   "outputs": [
    {
     "name": "stdout",
     "output_type": "stream",
     "text": [
      "Fingerprint extraction...\n",
      "Dataset065_p1DU1_h2\n",
      "Using <class 'nnunetv2.imageio.simpleitk_reader_writer.SimpleITKIO'> as reader/writer\n",
      "\n",
      "####################\n",
      "verify_dataset_integrity Done. \n",
      "If you didn't see any error messages then your dataset is most likely OK!\n",
      "####################\n",
      "\n",
      "Using <class 'nnunetv2.imageio.simpleitk_reader_writer.SimpleITKIO'> as reader/writer\n",
      "100%|███████████████████████████████████████████| 40/40 [01:03<00:00,  1.58s/it]\n",
      "Experiment planning...\n",
      "Attempting to find 3d_lowres config. \n",
      "Current spacing: [0.61799996 0.36009766 0.36009766]. \n",
      "Current patch size: [128 112 160]. \n",
      "Current median shape: [497.08737864 497.08737864 720.87378641]\n",
      "Attempting to find 3d_lowres config. \n",
      "Current spacing: [0.63653996 0.37090059 0.37090059]. \n",
      "Current patch size: [128 112 160]. \n",
      "Current median shape: [482.60910548 482.60910548 699.87746253]\n",
      "Attempting to find 3d_lowres config. \n",
      "Current spacing: [0.65563616 0.3820276  0.3820276 ]. \n",
      "Current patch size: [128 112 160]. \n",
      "Current median shape: [468.55252959 468.55252959 679.49268207]\n",
      "Attempting to find 3d_lowres config. \n",
      "Current spacing: [0.67530525 0.39348843 0.39348843]. \n",
      "Current patch size: [128 112 160]. \n",
      "Current median shape: [454.90536853 454.90536853 659.70163308]\n",
      "Attempting to find 3d_lowres config. \n",
      "Current spacing: [0.6955644  0.40529308 0.40529308]. \n",
      "Current patch size: [128 112 160]. \n",
      "Current median shape: [441.6556976  441.6556976  640.48702241]\n",
      "Attempting to find 3d_lowres config. \n",
      "Current spacing: [0.71643134 0.41745188 0.41745188]. \n",
      "Current patch size: [128 112 160]. \n",
      "Current median shape: [428.79193942 428.79193942 621.83206059]\n",
      "Attempting to find 3d_lowres config. \n",
      "Current spacing: [0.73792428 0.42997543 0.42997543]. \n",
      "Current patch size: [128 112 160]. \n",
      "Current median shape: [416.30285381 416.30285381 603.72044717]\n",
      "Attempting to find 3d_lowres config. \n",
      "Current spacing: [0.760062  0.4428747 0.4428747]. \n",
      "Current patch size: [128 112 160]. \n",
      "Current median shape: [404.17752797 404.17752797 586.13635648]\n",
      "Attempting to find 3d_lowres config. \n",
      "Current spacing: [0.78286386 0.45616094 0.45616094]. \n",
      "Current patch size: [128 112 160]. \n",
      "Current median shape: [392.40536696 392.40536696 569.06442377]\n",
      "Attempting to find 3d_lowres config. \n",
      "Current spacing: [0.80634978 0.46984577 0.46984577]. \n",
      "Current patch size: [128 112 160]. \n",
      "Current median shape: [380.97608443 380.97608443 552.48973181]\n",
      "Attempting to find 3d_lowres config. \n",
      "Current spacing: [0.83054027 0.48394114 0.48394114]. \n",
      "Current patch size: [128 112 160]. \n",
      "Current median shape: [369.87969362 369.87969362 536.39779787]\n",
      "Attempting to find 3d_lowres config. \n",
      "Current spacing: [0.85545648 0.49845937 0.49845937]. \n",
      "Current patch size: [128 112 160]. \n",
      "Current median shape: [359.10649866 359.10649866 520.77456104]\n",
      "Attempting to find 3d_lowres config. \n",
      "Current spacing: [0.88112018 0.51341315 0.51341315]. \n",
      "Current patch size: [128 112 160]. \n",
      "Current median shape: [348.64708608 348.64708608 505.60636994]\n",
      "Attempting to find 3d_lowres config. \n",
      "Current spacing: [0.90755378 0.52881555 0.52881555]. \n",
      "Current patch size: [128 112 160]. \n",
      "Current median shape: [338.49231658 338.49231658 490.87997082]\n",
      "Attempting to find 3d_lowres config. \n",
      "Current spacing: [0.93478039 0.54468001 0.54468001]. \n",
      "Current patch size: [128 112 160]. \n",
      "Current median shape: [328.63331707 328.63331707 476.58249594]\n",
      "Attempting to find 3d_lowres config. \n",
      "Current spacing: [0.96282381 0.56102042 0.56102042]. \n",
      "Current patch size: [128 112 160]. \n",
      "Current median shape: [319.06147288 319.06147288 462.70145237]\n",
      "Attempting to find 3d_lowres config. \n",
      "Current spacing: [0.99170852 0.57785103 0.57785103]. \n",
      "Current patch size: [128 112 160]. \n",
      "Current median shape: [309.76842027 309.76842027 449.22471104]\n",
      "Attempting to find 3d_lowres config. \n",
      "Current spacing: [1.02145978 0.59518656 0.59518656]. \n",
      "Current patch size: [128 112 160]. \n",
      "Current median shape: [300.7460391  300.7460391  436.14049616]\n",
      "Attempting to find 3d_lowres config. \n",
      "Current spacing: [1.05210357 0.61304216 0.61304216]. \n",
      "Current patch size: [128 112 160]. \n",
      "Current median shape: [291.98644573 291.98644573 423.43737491]\n",
      "Attempting to find 3d_lowres config. \n",
      "Current spacing: [1.08366668 0.63143342 0.63143342]. \n",
      "Current patch size: [128 112 160]. \n",
      "Current median shape: [283.48198614 283.48198614 411.10424748]\n",
      "Attempting to find 3d_lowres config. \n",
      "Current spacing: [1.11617668 0.65037642 0.65037642]. \n",
      "Current patch size: [128 112 160]. \n",
      "Current median shape: [275.22522927 275.22522927 399.13033736]\n",
      "Attempting to find 3d_lowres config. \n",
      "Current spacing: [1.14966198 0.66988772 0.66988772]. \n",
      "Current patch size: [128 112 160]. \n",
      "Current median shape: [267.20896045 267.20896045 387.50518191]\n",
      "Attempting to find 3d_lowres config. \n",
      "Current spacing: [1.18415184 0.68998435 0.68998435]. \n",
      "Current patch size: [128 112 160]. \n",
      "Current median shape: [259.4261752  259.4261752  376.21862321]\n",
      "Attempting to find 3d_lowres config. \n",
      "Current spacing: [1.21967639 0.71068388 0.71068388]. \n",
      "Current patch size: [128 112 160]. \n",
      "Current median shape: [251.87007301 251.87007301 365.26079923]\n",
      "Attempting to find 3d_lowres config. \n",
      "Current spacing: [1.25626668 0.73200439 0.73200439]. \n",
      "Current patch size: [128 112 160]. \n",
      "Current median shape: [244.53405146 244.53405146 354.62213518]\n",
      "Attempting to find 3d_lowres config. \n",
      "Current spacing: [1.29395468 0.75396453 0.75396453]. \n",
      "Current patch size: [128 112 160]. \n",
      "Current median shape: [237.41170045 237.41170045 344.29333512]\n",
      "Attempting to find 3d_lowres config. \n",
      "Current spacing: [1.33277332 0.77658346 0.77658346]. \n",
      "Current patch size: [128 112 160]. \n",
      "Current median shape: [230.49679655 230.49679655 334.26537391]\n",
      "Attempting to find 3d_lowres config. \n",
      "Current spacing: [1.37275652 0.79988096 0.79988096]. \n",
      "Current patch size: [128 112 160]. \n",
      "Current median shape: [223.78329762 223.78329762 324.52948923]\n",
      "Attempting to find 3d_lowres config. \n",
      "Current spacing: [1.41393922 0.82387739 0.82387739]. \n",
      "Current patch size: [128 112 160]. \n",
      "Current median shape: [217.2653375  217.2653375  315.07717401]\n",
      "Attempting to find 3d_lowres config. \n",
      "Current spacing: [1.4563574  0.84859372 0.84859372]. \n",
      "Current patch size: [128 112 160]. \n",
      "Current median shape: [210.93722087 210.93722087 305.90016894]\n",
      "Attempting to find 3d_lowres config. \n",
      "Current spacing: [1.50004812 0.87405153 0.87405153]. \n",
      "Current patch size: [128 112 160]. \n",
      "Current median shape: [204.79341832 204.79341832 296.99045528]\n",
      "Attempting to find 3d_lowres config. \n",
      "Current spacing: [1.54504956 0.90027307 0.90027307]. \n",
      "Current patch size: [128 112 160]. \n",
      "Current median shape: [198.82856148 198.82856148 288.34024785]\n",
      "Attempting to find 3d_lowres config. \n",
      "Current spacing: [1.59140105 0.92728126 0.92728126]. \n",
      "Current patch size: [128 112 160]. \n",
      "Current median shape: [193.03743833 193.03743833 279.9419882 ]\n",
      "Attempting to find 3d_lowres config. \n",
      "Current spacing: [1.63914308 0.9550997  0.9550997 ]. \n",
      "Current patch size: [128 112 160]. \n",
      "Current median shape: [187.41498867 187.41498867 271.78833806]\n",
      "Attempting to find 3d_lowres config. \n",
      "Current spacing: [1.68831737 0.98375269 0.98375269]. \n",
      "Current patch size: [128 112 160]. \n",
      "Current median shape: [181.95629968 181.95629968 263.87217287]\n",
      "2D U-Net configuration:\n",
      "{'data_identifier': 'nnUNetPlans_2d', 'preprocessor_name': 'DefaultPreprocessor', 'batch_size': 13, 'patch_size': array([384, 640]), 'median_image_size_in_voxels': array([512. , 742.5]), 'spacing': array([0.34960938, 0.34960938]), 'normalization_schemes': ['CTNormalization'], 'use_mask_for_norm': [False], 'UNet_class_name': 'PlainConvUNet', 'UNet_base_num_features': 32, 'n_conv_per_stage_encoder': (2, 2, 2, 2, 2, 2, 2), 'n_conv_per_stage_decoder': (2, 2, 2, 2, 2, 2), 'num_pool_per_axis': [6, 6], 'pool_op_kernel_sizes': [[1, 1], [2, 2], [2, 2], [2, 2], [2, 2], [2, 2], [2, 2]], 'conv_kernel_sizes': [[3, 3], [3, 3], [3, 3], [3, 3], [3, 3], [3, 3], [3, 3]], 'unet_max_num_features': 512, 'resampling_fn_data': 'resample_data_or_seg_to_shape', 'resampling_fn_seg': 'resample_data_or_seg_to_shape', 'resampling_fn_data_kwargs': {'is_seg': False, 'order': 3, 'order_z': 0, 'force_separate_z': None}, 'resampling_fn_seg_kwargs': {'is_seg': True, 'order': 1, 'order_z': 0, 'force_separate_z': None}, 'resampling_fn_probabilities': 'resample_data_or_seg_to_shape', 'resampling_fn_probabilities_kwargs': {'is_seg': False, 'order': 1, 'order_z': 0, 'force_separate_z': None}, 'batch_dice': True}\n",
      "\n",
      "Using <class 'nnunetv2.imageio.simpleitk_reader_writer.SimpleITKIO'> as reader/writer\n",
      "3D lowres U-Net configuration:\n",
      "{'data_identifier': 'nnUNetPlans_3d_lowres', 'preprocessor_name': 'DefaultPreprocessor', 'batch_size': 2, 'patch_size': array([128, 112, 160]), 'median_image_size_in_voxels': [182, 182, 264], 'spacing': array([1.68831737, 0.98375269, 0.98375269]), 'normalization_schemes': ['CTNormalization'], 'use_mask_for_norm': [False], 'UNet_class_name': 'PlainConvUNet', 'UNet_base_num_features': 32, 'n_conv_per_stage_encoder': (2, 2, 2, 2, 2, 2), 'n_conv_per_stage_decoder': (2, 2, 2, 2, 2), 'num_pool_per_axis': [5, 4, 5], 'pool_op_kernel_sizes': [[1, 1, 1], [2, 2, 2], [2, 2, 2], [2, 2, 2], [2, 2, 2], [2, 1, 2]], 'conv_kernel_sizes': [[3, 3, 3], [3, 3, 3], [3, 3, 3], [3, 3, 3], [3, 3, 3], [3, 3, 3]], 'unet_max_num_features': 320, 'resampling_fn_data': 'resample_data_or_seg_to_shape', 'resampling_fn_seg': 'resample_data_or_seg_to_shape', 'resampling_fn_data_kwargs': {'is_seg': False, 'order': 3, 'order_z': 0, 'force_separate_z': None}, 'resampling_fn_seg_kwargs': {'is_seg': True, 'order': 1, 'order_z': 0, 'force_separate_z': None}, 'resampling_fn_probabilities': 'resample_data_or_seg_to_shape', 'resampling_fn_probabilities_kwargs': {'is_seg': False, 'order': 1, 'order_z': 0, 'force_separate_z': None}, 'batch_dice': False, 'next_stage': '3d_cascade_fullres'}\n",
      "\n",
      "3D fullres U-Net configuration:\n",
      "{'data_identifier': 'nnUNetPlans_3d_fullres', 'preprocessor_name': 'DefaultPreprocessor', 'batch_size': 2, 'patch_size': array([128, 112, 160]), 'median_image_size_in_voxels': array([512. , 512. , 742.5]), 'spacing': array([0.59999996, 0.34960938, 0.34960938]), 'normalization_schemes': ['CTNormalization'], 'use_mask_for_norm': [False], 'UNet_class_name': 'PlainConvUNet', 'UNet_base_num_features': 32, 'n_conv_per_stage_encoder': (2, 2, 2, 2, 2, 2), 'n_conv_per_stage_decoder': (2, 2, 2, 2, 2), 'num_pool_per_axis': [5, 4, 5], 'pool_op_kernel_sizes': [[1, 1, 1], [2, 2, 2], [2, 2, 2], [2, 2, 2], [2, 2, 2], [2, 1, 2]], 'conv_kernel_sizes': [[3, 3, 3], [3, 3, 3], [3, 3, 3], [3, 3, 3], [3, 3, 3], [3, 3, 3]], 'unet_max_num_features': 320, 'resampling_fn_data': 'resample_data_or_seg_to_shape', 'resampling_fn_seg': 'resample_data_or_seg_to_shape', 'resampling_fn_data_kwargs': {'is_seg': False, 'order': 3, 'order_z': 0, 'force_separate_z': None}, 'resampling_fn_seg_kwargs': {'is_seg': True, 'order': 1, 'order_z': 0, 'force_separate_z': None}, 'resampling_fn_probabilities': 'resample_data_or_seg_to_shape', 'resampling_fn_probabilities_kwargs': {'is_seg': False, 'order': 1, 'order_z': 0, 'force_separate_z': None}, 'batch_dice': True}\n",
      "\n",
      "Plans were saved to /workspace/2024-25ab-fai3-specialisation-project-team-specifix-1/data/segmentation/nnUNet_preprocessed/Dataset065_p1DU1_h2/nnUNetPlans.json\n",
      "Preprocessing...\n",
      "Preprocessing dataset Dataset065_p1DU1_h2\n",
      "Configuration: 3d_fullres...\n",
      "100%|███████████████████████████████████████████| 40/40 [20:24<00:00, 30.61s/it]\n"
     ]
    }
   ],
   "source": [
    "!poetry run nnUNetv2_plan_and_preprocess -d 065 --verify_dataset_integrity -c 3d_fullres"
   ]
  },
  {
   "cell_type": "code",
   "execution_count": 5,
   "id": "fe72aa89-d00d-4e67-ba4f-c5363cb7f5ac",
   "metadata": {},
   "outputs": [
    {
     "name": "stdout",
     "output_type": "stream",
     "text": [
      "Using GPU is CUDA:3\n",
      "CUDA:0 NVIDIA RTX A6000, 48669.75MB\n"
     ]
    }
   ],
   "source": [
    "import os\n",
    "import torch\n",
    "\n",
    "os.environ[\"CUDA_VISIBLE_DEVICES\"] = \"3\"\n",
    "\n",
    "print(f\"Using GPU is CUDA:{os.environ['CUDA_VISIBLE_DEVICES']}\")\n",
    "\n",
    "for i in range(torch.cuda.device_count()):\n",
    "    info = torch.cuda.get_device_properties(i)\n",
    "    print(f\"CUDA:{i} {info.name}, {info.total_memory / 1024 ** 2}MB\")"
   ]
  },
  {
   "cell_type": "code",
   "execution_count": null,
   "id": "6487c1ef-3b00-46b7-96e3-75db39e5fe18",
   "metadata": {
    "scrolled": true
   },
   "outputs": [
    {
     "name": "stdout",
     "output_type": "stream",
     "text": [
      "Using device: cuda:0\n",
      "\n",
      "#######################################################################\n",
      "Please cite the following paper when using nnU-Net:\n",
      "Isensee, F., Jaeger, P. F., Kohl, S. A., Petersen, J., & Maier-Hein, K. H. (2021). nnU-Net: a self-configuring method for deep learning-based biomedical image segmentation. Nature methods, 18(2), 203-211.\n",
      "#######################################################################\n",
      "\n",
      "/root/.cache/pypoetry/virtualenvs/specifix-pAjDTqDi-py3.9/lib/python3.9/site-packages/torch/optim/lr_scheduler.py:28: UserWarning: The verbose parameter is deprecated. Please use get_last_lr() to access the learning rate.\n",
      "  warnings.warn(\"The verbose parameter is deprecated. Please use get_last_lr() \"\n",
      "\n",
      "This is the configuration used by this training:\n",
      "Configuration name: 3d_fullres\n",
      " {'data_identifier': 'nnUNetPlans_3d_fullres', 'preprocessor_name': 'DefaultPreprocessor', 'batch_size': 2, 'patch_size': [128, 112, 160], 'median_image_size_in_voxels': [512.0, 512.0, 742.5], 'spacing': [0.5999999642372131, 0.349609375, 0.349609375], 'normalization_schemes': ['CTNormalization'], 'use_mask_for_norm': [False], 'UNet_class_name': 'PlainConvUNet', 'UNet_base_num_features': 32, 'n_conv_per_stage_encoder': [2, 2, 2, 2, 2, 2], 'n_conv_per_stage_decoder': [2, 2, 2, 2, 2], 'num_pool_per_axis': [5, 4, 5], 'pool_op_kernel_sizes': [[1, 1, 1], [2, 2, 2], [2, 2, 2], [2, 2, 2], [2, 2, 2], [2, 1, 2]], 'conv_kernel_sizes': [[3, 3, 3], [3, 3, 3], [3, 3, 3], [3, 3, 3], [3, 3, 3], [3, 3, 3]], 'unet_max_num_features': 320, 'resampling_fn_data': 'resample_data_or_seg_to_shape', 'resampling_fn_seg': 'resample_data_or_seg_to_shape', 'resampling_fn_data_kwargs': {'is_seg': False, 'order': 3, 'order_z': 0, 'force_separate_z': None}, 'resampling_fn_seg_kwargs': {'is_seg': True, 'order': 1, 'order_z': 0, 'force_separate_z': None}, 'resampling_fn_probabilities': 'resample_data_or_seg_to_shape', 'resampling_fn_probabilities_kwargs': {'is_seg': False, 'order': 1, 'order_z': 0, 'force_separate_z': None}, 'batch_dice': True} \n",
      "\n",
      "These are the global plan.json settings:\n",
      " {'dataset_name': 'Dataset065_p1DU1_h2', 'plans_name': 'nnUNetPlans', 'original_median_spacing_after_transp': [0.5999999642372131, 0.349609375, 0.349609375], 'original_median_shape_after_transp': [512, 512, 638], 'image_reader_writer': 'SimpleITKIO', 'transpose_forward': [0, 1, 2], 'transpose_backward': [0, 1, 2], 'experiment_planner_used': 'ExperimentPlanner', 'label_manager': 'LabelManager', 'foreground_intensity_properties_per_channel': {'0': {'max': 3680.0, 'mean': 1632.9677734375, 'median': 1508.0, 'min': 1194.0, 'percentile_00_5': 1251.0, 'percentile_99_5': 3068.0, 'std': 379.2298583984375}}} \n",
      "\n",
      "2024-11-29 11:21:32.666041: unpacking dataset...\n",
      "2024-11-29 11:22:05.003448: unpacking done...\n",
      "2024-11-29 11:22:05.004455: do_dummy_2d_data_aug: False\n",
      "2024-11-29 11:22:05.005201: Creating new 5-fold cross-validation split...\n",
      "2024-11-29 11:22:05.006427: Desired fold for training: 0\n",
      "2024-11-29 11:22:05.006500: This split has 32 training and 8 validation cases.\n",
      "2024-11-29 11:22:05.051488: Unable to plot network architecture:\n",
      "2024-11-29 11:22:05.051634: No module named 'hiddenlayer'\n",
      "2024-11-29 11:22:05.084508: \n",
      "2024-11-29 11:22:05.084628: Epoch 0\n",
      "2024-11-29 11:22:05.084844: Current learning rate: 0.01\n",
      "using pin_memory on device 0\n",
      "using pin_memory on device 0\n",
      "2024-11-29 11:23:08.509081: train_loss 0.0372\n",
      "2024-11-29 11:23:08.509408: val_loss 0.0012\n",
      "2024-11-29 11:23:08.509508: Pseudo dice [0.0]\n",
      "2024-11-29 11:23:08.509625: Epoch time: 63.43 s\n",
      "2024-11-29 11:23:08.509723: Yayy! New best EMA pseudo Dice: 0.0\n",
      "2024-11-29 11:23:10.534540: \n",
      "2024-11-29 11:23:10.534719: Epoch 1\n",
      "2024-11-29 11:23:10.534845: Current learning rate: 0.00999\n",
      "2024-11-29 11:24:08.876795: train_loss -0.0133\n",
      "2024-11-29 11:24:08.877348: val_loss -0.0487\n",
      "2024-11-29 11:24:08.877455: Pseudo dice [0.0025]\n",
      "2024-11-29 11:24:08.877567: Epoch time: 58.34 s\n",
      "2024-11-29 11:24:08.877659: Yayy! New best EMA pseudo Dice: 0.0002\n",
      "2024-11-29 11:24:11.417377: \n",
      "2024-11-29 11:24:11.417539: Epoch 2\n",
      "2024-11-29 11:24:11.417676: Current learning rate: 0.00998\n"
     ]
    }
   ],
   "source": [
    "!poetry run nnUNetv2_train 065 3d_fullres 0"
   ]
  },
  {
   "cell_type": "code",
   "execution_count": null,
   "id": "45f1de48-4f93-4de2-9c3a-908fbbf93e41",
   "metadata": {},
   "outputs": [],
   "source": []
  }
 ],
 "metadata": {
  "kernelspec": {
   "display_name": "Python (Poetry)",
   "language": "python",
   "name": "poetry-env"
  },
  "language_info": {
   "codemirror_mode": {
    "name": "ipython",
    "version": 3
   },
   "file_extension": ".py",
   "mimetype": "text/x-python",
   "name": "python",
   "nbconvert_exporter": "python",
   "pygments_lexer": "ipython3",
   "version": "3.9.20"
  }
 },
 "nbformat": 4,
 "nbformat_minor": 5
}
