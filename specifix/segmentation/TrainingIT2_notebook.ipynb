{
 "cells": [
  {
   "cell_type": "code",
   "execution_count": 1,
   "id": "f959786d-906c-455f-bbbe-137531affbfb",
   "metadata": {},
   "outputs": [
    {
     "name": "stdout",
     "output_type": "stream",
     "text": [
      "True\n"
     ]
    }
   ],
   "source": [
    "import torch\n",
    "\n",
    "print(torch.cuda.is_available())"
   ]
  },
  {
   "cell_type": "code",
   "execution_count": 2,
   "id": "15fa2906-ab52-4ca2-9329-346c281cf7e0",
   "metadata": {},
   "outputs": [
    {
     "name": "stdout",
     "output_type": "stream",
     "text": [
      "nnUNet_raw=/workspace/2024-25ab-fai3-specialisation-project-team-specifix-1/data/segmentation/nnUNet_raw\n",
      "nnUNet_preprocessed=/workspace/2024-25ab-fai3-specialisation-project-team-specifix-1/data/segmentation/nnUNet_preprocessed\n",
      "nnUNet_results=/workspace/2024-25ab-fai3-specialisation-project-team-specifix-1/data/segmentation/nnUNet_results\n",
      "\n"
     ]
    }
   ],
   "source": [
    "data = {\n",
    "'nnUNet_raw':'/workspace/2024-25ab-fai3-specialisation-project-team-specifix-1/data/segmentation/nnUNet_raw',\n",
    "'nnUNet_preprocessed':'/workspace/2024-25ab-fai3-specialisation-project-team-specifix-1/data/segmentation/nnUNet_preprocessed',\n",
    "'nnUNet_results':'/workspace/2024-25ab-fai3-specialisation-project-team-specifix-1/data/segmentation/nnUNet_results'\n",
    "}\n",
    "\n",
    "with open('.env', 'w') as file:\n",
    "    for key in data:\n",
    "        file.write(f'{key}={data[key]}\\n')\n",
    "\n",
    "with open('.env', 'r') as file:\n",
    "    cf = file.read()\n",
    "print(cf)"
   ]
  },
  {
   "cell_type": "code",
   "execution_count": 3,
   "id": "e95cbec4-faba-4f1d-b5de-c8332029095f",
   "metadata": {},
   "outputs": [
    {
     "data": {
      "text/plain": [
       "True"
      ]
     },
     "execution_count": 3,
     "metadata": {},
     "output_type": "execute_result"
    }
   ],
   "source": [
    "import os\n",
    "from dotenv import load_dotenv\n",
    "import subprocess\n",
    " \n",
    "   # Load environment variables from .env file\n",
    "load_dotenv(override=True)"
   ]
  },
  {
   "cell_type": "code",
   "execution_count": 4,
   "id": "9ad0f084-0acc-403c-811e-ae4b249c300f",
   "metadata": {
    "scrolled": true
   },
   "outputs": [
    {
     "name": "stdout",
     "output_type": "stream",
     "text": [
      "Fingerprint extraction...\n",
      "Dataset061_dR_h2\n",
      "Using <class 'nnunetv2.imageio.simpleitk_reader_writer.SimpleITKIO'> as reader/writer\n",
      "\n",
      "####################\n",
      "verify_dataset_integrity Done. \n",
      "If you didn't see any error messages then your dataset is most likely OK!\n",
      "####################\n",
      "\n",
      "Using <class 'nnunetv2.imageio.simpleitk_reader_writer.SimpleITKIO'> as reader/writer\n",
      "100%|███████████████████████████████████████████| 33/33 [00:45<00:00,  1.39s/it]\n",
      "Experiment planning...\n",
      "Attempting to find 3d_lowres config. \n",
      "Current spacing: [0.61800002 0.36210938 0.36210938]. \n",
      "Current patch size: [128 112 160]. \n",
      "Current median shape: [497.08737864 497.08737864 714.5631068 ]\n",
      "Attempting to find 3d_lowres config. \n",
      "Current spacing: [0.63654003 0.37297266 0.37297266]. \n",
      "Current patch size: [128 112 160]. \n",
      "Current median shape: [482.60910548 482.60910548 693.75058912]\n",
      "Attempting to find 3d_lowres config. \n",
      "Current spacing: [0.65563623 0.38416184 0.38416184]. \n",
      "Current patch size: [128 112 160]. \n",
      "Current median shape: [468.55252959 468.55252959 673.54426128]\n",
      "Attempting to find 3d_lowres config. \n",
      "Current spacing: [0.67530531 0.39568669 0.39568669]. \n",
      "Current patch size: [128 112 160]. \n",
      "Current median shape: [454.90536853 454.90536853 653.92646727]\n",
      "Attempting to find 3d_lowres config. \n",
      "Current spacing: [0.69556447 0.40755729 0.40755729]. \n",
      "Current patch size: [128 112 160]. \n",
      "Current median shape: [441.6556976  441.6556976  634.88006531]\n",
      "Attempting to find 3d_lowres config. \n",
      "Current spacing: [0.71643141 0.41978401 0.41978401]. \n",
      "Current patch size: [128 112 160]. \n",
      "Current median shape: [428.79193942 428.79193942 616.38841292]\n",
      "Attempting to find 3d_lowres config. \n",
      "Current spacing: [0.73792435 0.43237753 0.43237753]. \n",
      "Current patch size: [128 112 160]. \n",
      "Current median shape: [416.30285381 416.30285381 598.43535235]\n",
      "Attempting to find 3d_lowres config. \n",
      "Current spacing: [0.76006208 0.44534886 0.44534886]. \n",
      "Current patch size: [128 112 160]. \n",
      "Current median shape: [404.17752797 404.17752797 581.00519646]\n",
      "Attempting to find 3d_lowres config. \n",
      "Current spacing: [0.78286394 0.45870932 0.45870932]. \n",
      "Current patch size: [128 112 160]. \n",
      "Current median shape: [392.40536696 392.40536696 564.082715  ]\n",
      "Attempting to find 3d_lowres config. \n",
      "Current spacing: [0.80634986 0.4724706  0.4724706 ]. \n",
      "Current patch size: [128 112 160]. \n",
      "Current median shape: [380.97608443 380.97608443 547.65312136]\n",
      "Attempting to find 3d_lowres config. \n",
      "Current spacing: [0.83054036 0.48664472 0.48664472]. \n",
      "Current patch size: [128 112 160]. \n",
      "Current median shape: [369.87969362 369.87969362 531.70205958]\n",
      "Attempting to find 3d_lowres config. \n",
      "Current spacing: [0.85545657 0.50124406 0.50124406]. \n",
      "Current patch size: [128 112 160]. \n",
      "Current median shape: [359.10649866 359.10649866 516.21559182]\n",
      "Attempting to find 3d_lowres config. \n",
      "Current spacing: [0.88112026 0.51628138 0.51628138]. \n",
      "Current patch size: [128 112 160]. \n",
      "Current median shape: [348.64708608 348.64708608 501.18018623]\n",
      "Attempting to find 3d_lowres config. \n",
      "Current spacing: [0.90755387 0.53176983 0.53176983]. \n",
      "Current patch size: [128 112 160]. \n",
      "Current median shape: [338.49231658 338.49231658 486.58270508]\n",
      "Attempting to find 3d_lowres config. \n",
      "Current spacing: [0.93478049 0.54772292 0.54772292]. \n",
      "Current patch size: [128 112 160]. \n",
      "Current median shape: [328.63331707 328.63331707 472.41039328]\n",
      "Attempting to find 3d_lowres config. \n",
      "Current spacing: [0.9628239  0.56415461 0.56415461]. \n",
      "Current patch size: [128 112 160]. \n",
      "Current median shape: [319.06147288 319.06147288 458.65086727]\n",
      "Attempting to find 3d_lowres config. \n",
      "Current spacing: [0.99170862 0.58107925 0.58107925]. \n",
      "Current patch size: [128 112 160]. \n",
      "Current median shape: [309.76842027 309.76842027 445.29210414]\n",
      "Attempting to find 3d_lowres config. \n",
      "Current spacing: [1.02145988 0.59851162 0.59851162]. \n",
      "Current patch size: [128 112 160]. \n",
      "Current median shape: [300.7460391  300.7460391  432.32243121]\n",
      "Attempting to find 3d_lowres config. \n",
      "Current spacing: [1.05210367 0.61646697 0.61646697]. \n",
      "Current patch size: [128 112 160]. \n",
      "Current median shape: [291.98644573 291.98644573 419.73051573]\n",
      "Attempting to find 3d_lowres config. \n",
      "Current spacing: [1.08366678 0.63496098 0.63496098]. \n",
      "Current patch size: [128 112 160]. \n",
      "Current median shape: [283.48198614 283.48198614 407.50535508]\n",
      "Attempting to find 3d_lowres config. \n",
      "Current spacing: [1.11617679 0.65400981 0.65400981]. \n",
      "Current patch size: [128 112 160]. \n",
      "Current median shape: [275.22522927 275.22522927 395.63626707]\n",
      "Attempting to find 3d_lowres config. \n",
      "Current spacing: [1.14966209 0.6736301  0.6736301 ]. \n",
      "Current patch size: [128 112 160]. \n",
      "Current median shape: [267.20896045 267.20896045 384.11288065]\n",
      "Attempting to find 3d_lowres config. \n",
      "Current spacing: [1.18415195 0.69383901 0.69383901]. \n",
      "Current patch size: [128 112 160]. \n",
      "Current median shape: [259.4261752  259.4261752  372.92512684]\n",
      "Attempting to find 3d_lowres config. \n",
      "Current spacing: [1.21967651 0.71465418 0.71465418]. \n",
      "Current patch size: [128 112 160]. \n",
      "Current median shape: [251.87007301 251.87007301 362.06322995]\n",
      "Attempting to find 3d_lowres config. \n",
      "Current spacing: [1.25626681 0.7360938  0.7360938 ]. \n",
      "Current patch size: [128 112 160]. \n",
      "Current median shape: [244.53405146 244.53405146 351.51769898]\n",
      "Attempting to find 3d_lowres config. \n",
      "Current spacing: [1.29395481 0.75817662 0.75817662]. \n",
      "Current patch size: [128 112 160]. \n",
      "Current median shape: [237.41170045 237.41170045 341.27931939]\n",
      "Attempting to find 3d_lowres config. \n",
      "Current spacing: [1.33277346 0.78092192 0.78092192]. \n",
      "Current patch size: [128 112 160]. \n",
      "Current median shape: [230.49679655 230.49679655 331.33914504]\n",
      "Attempting to find 3d_lowres config. \n",
      "Current spacing: [1.37275666 0.80434957 0.80434957]. \n",
      "Current patch size: [128 112 160]. \n",
      "Current median shape: [223.78329762 223.78329762 321.68849033]\n",
      "Attempting to find 3d_lowres config. \n",
      "Current spacing: [1.41393936 0.82848006 0.82848006]. \n",
      "Current patch size: [128 112 160]. \n",
      "Current median shape: [217.2653375  217.2653375  312.31892265]\n",
      "Attempting to find 3d_lowres config. \n",
      "Current spacing: [1.45635754 0.85333446 0.85333446]. \n",
      "Current patch size: [128 112 160]. \n",
      "Current median shape: [210.93722087 210.93722087 303.222255  ]\n",
      "Attempting to find 3d_lowres config. \n",
      "Current spacing: [1.50004827 0.8789345  0.8789345 ]. \n",
      "Current patch size: [128 112 160]. \n",
      "Current median shape: [204.79341832 204.79341832 294.39053884]\n",
      "Attempting to find 3d_lowres config. \n",
      "Current spacing: [1.54504971 0.90530253 0.90530253]. \n",
      "Current patch size: [128 112 160]. \n",
      "Current median shape: [198.82856148 198.82856148 285.81605712]\n",
      "Attempting to find 3d_lowres config. \n",
      "Current spacing: [1.59140121 0.93246161 0.93246161]. \n",
      "Current patch size: [128 112 160]. \n",
      "Current median shape: [193.03743833 193.03743833 277.4913176 ]\n",
      "Attempting to find 3d_lowres config. \n",
      "Current spacing: [1.63914324 0.96043546 0.96043546]. \n",
      "Current patch size: [128 112 160]. \n",
      "Current median shape: [187.41498867 187.41498867 269.40904621]\n",
      "Attempting to find 3d_lowres config. \n",
      "Current spacing: [1.68831754 0.98924852 0.98924852]. \n",
      "Current patch size: [128 112 160]. \n",
      "Current median shape: [181.95629968 181.95629968 261.56218079]\n",
      "2D U-Net configuration:\n",
      "{'data_identifier': 'nnUNetPlans_2d', 'preprocessor_name': 'DefaultPreprocessor', 'batch_size': 13, 'patch_size': array([384, 640]), 'median_image_size_in_voxels': array([512., 736.]), 'spacing': array([0.3515625, 0.3515625]), 'normalization_schemes': ['CTNormalization'], 'use_mask_for_norm': [False], 'UNet_class_name': 'PlainConvUNet', 'UNet_base_num_features': 32, 'n_conv_per_stage_encoder': (2, 2, 2, 2, 2, 2, 2), 'n_conv_per_stage_decoder': (2, 2, 2, 2, 2, 2), 'num_pool_per_axis': [6, 6], 'pool_op_kernel_sizes': [[1, 1], [2, 2], [2, 2], [2, 2], [2, 2], [2, 2], [2, 2]], 'conv_kernel_sizes': [[3, 3], [3, 3], [3, 3], [3, 3], [3, 3], [3, 3], [3, 3]], 'unet_max_num_features': 512, 'resampling_fn_data': 'resample_data_or_seg_to_shape', 'resampling_fn_seg': 'resample_data_or_seg_to_shape', 'resampling_fn_data_kwargs': {'is_seg': False, 'order': 3, 'order_z': 0, 'force_separate_z': None}, 'resampling_fn_seg_kwargs': {'is_seg': True, 'order': 1, 'order_z': 0, 'force_separate_z': None}, 'resampling_fn_probabilities': 'resample_data_or_seg_to_shape', 'resampling_fn_probabilities_kwargs': {'is_seg': False, 'order': 1, 'order_z': 0, 'force_separate_z': None}, 'batch_dice': True}\n",
      "\n",
      "Using <class 'nnunetv2.imageio.simpleitk_reader_writer.SimpleITKIO'> as reader/writer\n",
      "3D lowres U-Net configuration:\n",
      "{'data_identifier': 'nnUNetPlans_3d_lowres', 'preprocessor_name': 'DefaultPreprocessor', 'batch_size': 2, 'patch_size': array([128, 112, 160]), 'median_image_size_in_voxels': [182, 182, 262], 'spacing': array([1.68831754, 0.98924852, 0.98924852]), 'normalization_schemes': ['CTNormalization'], 'use_mask_for_norm': [False], 'UNet_class_name': 'PlainConvUNet', 'UNet_base_num_features': 32, 'n_conv_per_stage_encoder': (2, 2, 2, 2, 2, 2), 'n_conv_per_stage_decoder': (2, 2, 2, 2, 2), 'num_pool_per_axis': [5, 4, 5], 'pool_op_kernel_sizes': [[1, 1, 1], [2, 2, 2], [2, 2, 2], [2, 2, 2], [2, 2, 2], [2, 1, 2]], 'conv_kernel_sizes': [[3, 3, 3], [3, 3, 3], [3, 3, 3], [3, 3, 3], [3, 3, 3], [3, 3, 3]], 'unet_max_num_features': 320, 'resampling_fn_data': 'resample_data_or_seg_to_shape', 'resampling_fn_seg': 'resample_data_or_seg_to_shape', 'resampling_fn_data_kwargs': {'is_seg': False, 'order': 3, 'order_z': 0, 'force_separate_z': None}, 'resampling_fn_seg_kwargs': {'is_seg': True, 'order': 1, 'order_z': 0, 'force_separate_z': None}, 'resampling_fn_probabilities': 'resample_data_or_seg_to_shape', 'resampling_fn_probabilities_kwargs': {'is_seg': False, 'order': 1, 'order_z': 0, 'force_separate_z': None}, 'batch_dice': False, 'next_stage': '3d_cascade_fullres'}\n",
      "\n",
      "3D fullres U-Net configuration:\n",
      "{'data_identifier': 'nnUNetPlans_3d_fullres', 'preprocessor_name': 'DefaultPreprocessor', 'batch_size': 2, 'patch_size': array([128, 112, 160]), 'median_image_size_in_voxels': array([512., 512., 736.]), 'spacing': array([0.60000002, 0.3515625 , 0.3515625 ]), 'normalization_schemes': ['CTNormalization'], 'use_mask_for_norm': [False], 'UNet_class_name': 'PlainConvUNet', 'UNet_base_num_features': 32, 'n_conv_per_stage_encoder': (2, 2, 2, 2, 2, 2), 'n_conv_per_stage_decoder': (2, 2, 2, 2, 2), 'num_pool_per_axis': [5, 4, 5], 'pool_op_kernel_sizes': [[1, 1, 1], [2, 2, 2], [2, 2, 2], [2, 2, 2], [2, 2, 2], [2, 1, 2]], 'conv_kernel_sizes': [[3, 3, 3], [3, 3, 3], [3, 3, 3], [3, 3, 3], [3, 3, 3], [3, 3, 3]], 'unet_max_num_features': 320, 'resampling_fn_data': 'resample_data_or_seg_to_shape', 'resampling_fn_seg': 'resample_data_or_seg_to_shape', 'resampling_fn_data_kwargs': {'is_seg': False, 'order': 3, 'order_z': 0, 'force_separate_z': None}, 'resampling_fn_seg_kwargs': {'is_seg': True, 'order': 1, 'order_z': 0, 'force_separate_z': None}, 'resampling_fn_probabilities': 'resample_data_or_seg_to_shape', 'resampling_fn_probabilities_kwargs': {'is_seg': False, 'order': 1, 'order_z': 0, 'force_separate_z': None}, 'batch_dice': True}\n",
      "\n",
      "Plans were saved to /workspace/2024-25ab-fai3-specialisation-project-team-specifix-1/data/segmentation/nnUNet_preprocessed/Dataset061_dR_h2/nnUNetPlans.json\n",
      "Preprocessing...\n",
      "Preprocessing dataset Dataset061_dR_h2\n",
      "Configuration: 3d_fullres...\n",
      "100%|███████████████████████████████████████████| 33/33 [18:24<00:00, 33.46s/it]\n"
     ]
    }
   ],
   "source": [
    "!poetry run nnUNetv2_plan_and_preprocess -d 061 --verify_dataset_integrity -c 3d_fullres"
   ]
  },
  {
   "cell_type": "code",
   "execution_count": 5,
   "id": "fe72aa89-d00d-4e67-ba4f-c5363cb7f5ac",
   "metadata": {},
   "outputs": [
    {
     "name": "stdout",
     "output_type": "stream",
     "text": [
      "Using GPU is CUDA:0\n",
      "CUDA:0 NVIDIA RTX A6000, 48669.75MB\n"
     ]
    }
   ],
   "source": [
    "import os\n",
    "import torch\n",
    "\n",
    "os.environ[\"CUDA_VISIBLE_DEVICES\"] = \"0\"\n",
    "\n",
    "print(f\"Using GPU is CUDA:{os.environ['CUDA_VISIBLE_DEVICES']}\")\n",
    "\n",
    "for i in range(torch.cuda.device_count()):\n",
    "    info = torch.cuda.get_device_properties(i)\n",
    "    print(f\"CUDA:{i} {info.name}, {info.total_memory / 1024 ** 2}MB\")"
   ]
  },
  {
   "cell_type": "code",
   "execution_count": null,
   "id": "32d56255-1e32-4c18-8b2d-251b772f3db8",
   "metadata": {
    "scrolled": true
   },
   "outputs": [
    {
     "name": "stdout",
     "output_type": "stream",
     "text": [
      "Using device: cuda:0\n",
      "\n",
      "#######################################################################\n",
      "Please cite the following paper when using nnU-Net:\n",
      "Isensee, F., Jaeger, P. F., Kohl, S. A., Petersen, J., & Maier-Hein, K. H. (2021). nnU-Net: a self-configuring method for deep learning-based biomedical image segmentation. Nature methods, 18(2), 203-211.\n",
      "#######################################################################\n",
      "\n",
      "/root/.cache/pypoetry/virtualenvs/specifix-pAjDTqDi-py3.9/lib/python3.9/site-packages/torch/optim/lr_scheduler.py:28: UserWarning: The verbose parameter is deprecated. Please use get_last_lr() to access the learning rate.\n",
      "  warnings.warn(\"The verbose parameter is deprecated. Please use get_last_lr() \"\n",
      "\n",
      "This is the configuration used by this training:\n",
      "Configuration name: 3d_fullres\n",
      " {'data_identifier': 'nnUNetPlans_3d_fullres', 'preprocessor_name': 'DefaultPreprocessor', 'batch_size': 2, 'patch_size': [128, 112, 160], 'median_image_size_in_voxels': [512.0, 512.0, 736.0], 'spacing': [0.6000000238418579, 0.3515625, 0.3515625], 'normalization_schemes': ['CTNormalization'], 'use_mask_for_norm': [False], 'UNet_class_name': 'PlainConvUNet', 'UNet_base_num_features': 32, 'n_conv_per_stage_encoder': [2, 2, 2, 2, 2, 2], 'n_conv_per_stage_decoder': [2, 2, 2, 2, 2], 'num_pool_per_axis': [5, 4, 5], 'pool_op_kernel_sizes': [[1, 1, 1], [2, 2, 2], [2, 2, 2], [2, 2, 2], [2, 2, 2], [2, 1, 2]], 'conv_kernel_sizes': [[3, 3, 3], [3, 3, 3], [3, 3, 3], [3, 3, 3], [3, 3, 3], [3, 3, 3]], 'unet_max_num_features': 320, 'resampling_fn_data': 'resample_data_or_seg_to_shape', 'resampling_fn_seg': 'resample_data_or_seg_to_shape', 'resampling_fn_data_kwargs': {'is_seg': False, 'order': 3, 'order_z': 0, 'force_separate_z': None}, 'resampling_fn_seg_kwargs': {'is_seg': True, 'order': 1, 'order_z': 0, 'force_separate_z': None}, 'resampling_fn_probabilities': 'resample_data_or_seg_to_shape', 'resampling_fn_probabilities_kwargs': {'is_seg': False, 'order': 1, 'order_z': 0, 'force_separate_z': None}, 'batch_dice': True} \n",
      "\n",
      "These are the global plan.json settings:\n",
      " {'dataset_name': 'Dataset061_dR_h2', 'plans_name': 'nnUNetPlans', 'original_median_spacing_after_transp': [0.6000000238418579, 0.3515625, 0.3515625], 'original_median_shape_after_transp': [512, 512, 623], 'image_reader_writer': 'SimpleITKIO', 'transpose_forward': [0, 1, 2], 'transpose_backward': [0, 1, 2], 'experiment_planner_used': 'ExperimentPlanner', 'label_manager': 'LabelManager', 'foreground_intensity_properties_per_channel': {'0': {'max': 3625.0, 'mean': 1590.3514404296875, 'median': 1496.0, 'min': 1213.0, 'percentile_00_5': 1251.0, 'percentile_99_5': 2725.0, 'std': 308.5600891113281}}} \n",
      "\n",
      "2024-11-29 11:19:48.097908: unpacking dataset...\n",
      "2024-11-29 11:20:11.530904: unpacking done...\n",
      "2024-11-29 11:20:11.532028: do_dummy_2d_data_aug: False\n",
      "2024-11-29 11:20:11.532856: Creating new 5-fold cross-validation split...\n",
      "2024-11-29 11:20:11.534076: Desired fold for training: 0\n",
      "2024-11-29 11:20:11.534149: This split has 26 training and 7 validation cases.\n",
      "2024-11-29 11:20:11.590686: Unable to plot network architecture:\n",
      "2024-11-29 11:20:11.590861: No module named 'hiddenlayer'\n",
      "2024-11-29 11:20:11.645510: \n",
      "2024-11-29 11:20:11.645640: Epoch 0\n",
      "2024-11-29 11:20:11.645853: Current learning rate: 0.01\n",
      "using pin_memory on device 0\n",
      "using pin_memory on device 0\n",
      "2024-11-29 11:22:40.543343: train_loss -0.054\n",
      "2024-11-29 11:22:40.543694: val_loss -0.3171\n",
      "2024-11-29 11:22:40.543797: Pseudo dice [0.4345]\n",
      "2024-11-29 11:22:40.543920: Epoch time: 148.9 s\n",
      "2024-11-29 11:22:40.544011: Yayy! New best EMA pseudo Dice: 0.4345\n",
      "2024-11-29 11:22:42.540848: \n",
      "2024-11-29 11:22:42.541126: Epoch 1\n",
      "2024-11-29 11:22:42.541296: Current learning rate: 0.00999\n"
     ]
    }
   ],
   "source": [
    "!poetry run nnUNetv2_train 061 3d_fullres 0"
   ]
  },
  {
   "cell_type": "code",
   "execution_count": null,
   "id": "6487c1ef-3b00-46b7-96e3-75db39e5fe18",
   "metadata": {},
   "outputs": [],
   "source": []
  }
 ],
 "metadata": {
  "kernelspec": {
   "display_name": "Python (Poetry)",
   "language": "python",
   "name": "poetry-env"
  },
  "language_info": {
   "codemirror_mode": {
    "name": "ipython",
    "version": 3
   },
   "file_extension": ".py",
   "mimetype": "text/x-python",
   "name": "python",
   "nbconvert_exporter": "python",
   "pygments_lexer": "ipython3",
   "version": "3.9.20"
  }
 },
 "nbformat": 4,
 "nbformat_minor": 5
}
