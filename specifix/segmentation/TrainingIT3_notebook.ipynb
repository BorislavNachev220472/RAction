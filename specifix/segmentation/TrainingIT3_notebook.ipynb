{
 "cells": [
  {
   "cell_type": "code",
   "execution_count": 1,
   "id": "f959786d-906c-455f-bbbe-137531affbfb",
   "metadata": {},
   "outputs": [
    {
     "name": "stdout",
     "output_type": "stream",
     "text": [
      "True\n"
     ]
    }
   ],
   "source": [
    "import torch\n",
    "\n",
    "print(torch.cuda.is_available())"
   ]
  },
  {
   "cell_type": "code",
   "execution_count": 2,
   "id": "15fa2906-ab52-4ca2-9329-346c281cf7e0",
   "metadata": {},
   "outputs": [
    {
     "name": "stdout",
     "output_type": "stream",
     "text": [
      "nnUNet_raw=/workspace/2024-25ab-fai3-specialisation-project-team-specifix-1/data/segmentation/nnUNet_raw\n",
      "nnUNet_preprocessed=/workspace/2024-25ab-fai3-specialisation-project-team-specifix-1/data/segmentation/nnUNet_preprocessed\n",
      "nnUNet_results=/workspace/2024-25ab-fai3-specialisation-project-team-specifix-1/data/segmentation/nnUNet_results\n",
      "\n"
     ]
    }
   ],
   "source": [
    "data = {\n",
    "'nnUNet_raw':'/workspace/2024-25ab-fai3-specialisation-project-team-specifix-1/data/segmentation/nnUNet_raw',\n",
    "'nnUNet_preprocessed':'/workspace/2024-25ab-fai3-specialisation-project-team-specifix-1/data/segmentation/nnUNet_preprocessed',\n",
    "'nnUNet_results':'/workspace/2024-25ab-fai3-specialisation-project-team-specifix-1/data/segmentation/nnUNet_results'\n",
    "}\n",
    "\n",
    "with open('.env', 'w') as file:\n",
    "    for key in data:\n",
    "        file.write(f'{key}={data[key]}\\n')\n",
    "\n",
    "with open('.env', 'r') as file:\n",
    "    cf = file.read()\n",
    "print(cf)"
   ]
  },
  {
   "cell_type": "code",
   "execution_count": 3,
   "id": "e95cbec4-faba-4f1d-b5de-c8332029095f",
   "metadata": {},
   "outputs": [
    {
     "data": {
      "text/plain": [
       "True"
      ]
     },
     "execution_count": 3,
     "metadata": {},
     "output_type": "execute_result"
    }
   ],
   "source": [
    "import os\n",
    "from dotenv import load_dotenv\n",
    "import subprocess\n",
    " \n",
    "   # Load environment variables from .env file\n",
    "load_dotenv(override=True)"
   ]
  },
  {
   "cell_type": "code",
   "execution_count": 4,
   "id": "9ad0f084-0acc-403c-811e-ae4b249c300f",
   "metadata": {
    "scrolled": true
   },
   "outputs": [
    {
     "name": "stdout",
     "output_type": "stream",
     "text": [
      "Fingerprint extraction...\n",
      "Dataset062_L_h2\n",
      "Using <class 'nnunetv2.imageio.simpleitk_reader_writer.SimpleITKIO'> as reader/writer\n",
      "\n",
      "####################\n",
      "verify_dataset_integrity Done. \n",
      "If you didn't see any error messages then your dataset is most likely OK!\n",
      "####################\n",
      "\n",
      "Using <class 'nnunetv2.imageio.simpleitk_reader_writer.SimpleITKIO'> as reader/writer\n",
      "100%|███████████████████████████████████████████| 24/24 [00:55<00:00,  2.32s/it]\n",
      "Experiment planning...\n",
      "Attempting to find 3d_lowres config. \n",
      "Current spacing: [0.33796875 0.30900001 0.33796875]. \n",
      "Current patch size: [112 112 192]. \n",
      "Current median shape: [497.08737864 497.08737864 800.97087379]\n",
      "Attempting to find 3d_lowres config. \n",
      "Current spacing: [0.34810781 0.31827001 0.34810781]. \n",
      "Current patch size: [112 112 192]. \n",
      "Current median shape: [482.60910548 482.60910548 777.64162504]\n",
      "Attempting to find 3d_lowres config. \n",
      "Current spacing: [0.35855105 0.32781811 0.35855105]. \n",
      "Current patch size: [112 112 192]. \n",
      "Current median shape: [468.55252959 468.55252959 754.99186897]\n",
      "Attempting to find 3d_lowres config. \n",
      "Current spacing: [0.36930758 0.33765266 0.36930758]. \n",
      "Current patch size: [112 112 192]. \n",
      "Current median shape: [454.90536853 454.90536853 733.00181453]\n",
      "Attempting to find 3d_lowres config. \n",
      "Current spacing: [0.38038681 0.34778224 0.38038681]. \n",
      "Current patch size: [112 112 192]. \n",
      "Current median shape: [441.6556976  441.6556976  711.65224712]\n",
      "Attempting to find 3d_lowres config. \n",
      "Current spacing: [0.39179841 0.3582157  0.39179841]. \n",
      "Current patch size: [112 112 192]. \n",
      "Current median shape: [428.79193942 428.79193942 690.92451176]\n",
      "Attempting to find 3d_lowres config. \n",
      "Current spacing: [0.40355236 0.36896217 0.40355236]. \n",
      "Current patch size: [112 112 192]. \n",
      "Current median shape: [416.30285381 416.30285381 670.80049686]\n",
      "Attempting to find 3d_lowres config. \n",
      "Current spacing: [0.41565893 0.38003104 0.41565893]. \n",
      "Current patch size: [112 112 192]. \n",
      "Current median shape: [404.17752797 404.17752797 651.26261831]\n",
      "Attempting to find 3d_lowres config. \n",
      "Current spacing: [0.4281287  0.39143197 0.4281287 ]. \n",
      "Current patch size: [112 112 192]. \n",
      "Current median shape: [392.40536696 392.40536696 632.29380418]\n",
      "Attempting to find 3d_lowres config. \n",
      "Current spacing: [0.44097256 0.40317493 0.44097256]. \n",
      "Current patch size: [112 112 192]. \n",
      "Current median shape: [380.97608443 380.97608443 613.87747979]\n",
      "Attempting to find 3d_lowres config. \n",
      "Current spacing: [0.45420174 0.41527018 0.45420174]. \n",
      "Current patch size: [112 112 192]. \n",
      "Current median shape: [369.87969362 369.87969362 595.99755319]\n",
      "Attempting to find 3d_lowres config. \n",
      "Current spacing: [0.46782779 0.42772828 0.46782779]. \n",
      "Current patch size: [112 112 192]. \n",
      "Current median shape: [359.10649866 359.10649866 578.63840116]\n",
      "Attempting to find 3d_lowres config. \n",
      "Current spacing: [0.48186262 0.44056013 0.48186262]. \n",
      "Current patch size: [112 112 192]. \n",
      "Current median shape: [348.64708608 348.64708608 561.78485549]\n",
      "Attempting to find 3d_lowres config. \n",
      "Current spacing: [0.4963185  0.45377694 0.4963185 ]. \n",
      "Current patch size: [112 112 192]. \n",
      "Current median shape: [338.49231658 338.49231658 545.4221898 ]\n",
      "Attempting to find 3d_lowres config. \n",
      "Current spacing: [0.51120806 0.46739024 0.51120806]. \n",
      "Current patch size: [112 112 192]. \n",
      "Current median shape: [328.63331707 328.63331707 529.5361066 ]\n",
      "Attempting to find 3d_lowres config. \n",
      "Current spacing: [0.5265443  0.48141195 0.5265443 ]. \n",
      "Current patch size: [112 112 192]. \n",
      "Current median shape: [319.06147288 319.06147288 514.11272486]\n",
      "Attempting to find 3d_lowres config. \n",
      "Current spacing: [0.54234063 0.49585431 0.54234063]. \n",
      "Current patch size: [112 112 192]. \n",
      "Current median shape: [309.76842027 309.76842027 499.13856782]\n",
      "Attempting to find 3d_lowres config. \n",
      "Current spacing: [0.55861085 0.51072994 0.55861085]. \n",
      "Current patch size: [112 112 192]. \n",
      "Current median shape: [300.7460391  300.7460391  484.60055128]\n",
      "Attempting to find 3d_lowres config. \n",
      "Current spacing: [0.57536917 0.52605184 0.57536917]. \n",
      "Current patch size: [112 112 192]. \n",
      "Current median shape: [291.98644573 291.98644573 470.48597212]\n",
      "Attempting to find 3d_lowres config. \n",
      "Current spacing: [0.59263025 0.54183339 0.59263025]. \n",
      "Current patch size: [112 112 192]. \n",
      "Current median shape: [283.48198614 283.48198614 456.7824972 ]\n",
      "Attempting to find 3d_lowres config. \n",
      "Current spacing: [0.61040916 0.55808839 0.61040916]. \n",
      "Current patch size: [112 112 192]. \n",
      "Current median shape: [275.22522927 275.22522927 443.47815262]\n",
      "Attempting to find 3d_lowres config. \n",
      "Current spacing: [0.62872143 0.57483105 0.62872143]. \n",
      "Current patch size: [112 112 192]. \n",
      "Current median shape: [267.20896045 267.20896045 430.56131323]\n",
      "Attempting to find 3d_lowres config. \n",
      "Current spacing: [0.64758307 0.59207598 0.64758307]. \n",
      "Current patch size: [112 112 192]. \n",
      "Current median shape: [259.4261752  259.4261752  418.02069245]\n",
      "Attempting to find 3d_lowres config. \n",
      "Current spacing: [0.66701057 0.60983826 0.66701057]. \n",
      "Current patch size: [112 112 192]. \n",
      "Current median shape: [251.87007301 251.87007301 405.84533248]\n",
      "Attempting to find 3d_lowres config. \n",
      "Current spacing: [0.68702088 0.6281334  0.68702088]. \n",
      "Current patch size: [112 112 192]. \n",
      "Current median shape: [244.53405146 244.53405146 394.02459464]\n",
      "Attempting to find 3d_lowres config. \n",
      "Current spacing: [0.70763151 0.64697741 0.70763151]. \n",
      "Current patch size: [112 112 192]. \n",
      "Current median shape: [237.41170045 237.41170045 382.54815014]\n",
      "Attempting to find 3d_lowres config. \n",
      "Current spacing: [0.72886045 0.66638673 0.72886045]. \n",
      "Current patch size: [112 112 192]. \n",
      "Current median shape: [230.49679655 230.49679655 371.40597101]\n",
      "Attempting to find 3d_lowres config. \n",
      "Current spacing: [0.75072627 0.68637833 0.75072627]. \n",
      "Current patch size: [112 112 192]. \n",
      "Current median shape: [223.78329762 223.78329762 360.58832137]\n",
      "Attempting to find 3d_lowres config. \n",
      "Current spacing: [0.77324806 0.70696968 0.77324806]. \n",
      "Current patch size: [112 112 192]. \n",
      "Current median shape: [217.2653375 217.2653375 350.0857489]\n",
      "Attempting to find 3d_lowres config. \n",
      "Current spacing: [0.7964455  0.72817877 0.7964455 ]. \n",
      "Current patch size: [112 112 192]. \n",
      "Current median shape: [210.93722087 210.93722087 339.8890766 ]\n",
      "Attempting to find 3d_lowres config. \n",
      "Current spacing: [0.82033886 0.75002413 0.82033886]. \n",
      "Current patch size: [112 112 192]. \n",
      "Current median shape: [204.79341832 204.79341832 329.98939476]\n",
      "Attempting to find 3d_lowres config. \n",
      "Current spacing: [0.84494903 0.77252486 0.84494903]. \n",
      "Current patch size: [112 112 192]. \n",
      "Current median shape: [198.82856148 198.82856148 320.37805316]\n",
      "Attempting to find 3d_lowres config. \n",
      "Current spacing: [0.8702975 0.7957006 0.8702975]. \n",
      "Current patch size: [112 112 192]. \n",
      "Current median shape: [193.03743833 193.03743833 311.04665356]\n",
      "Attempting to find 3d_lowres config. \n",
      "Current spacing: [0.89640643 0.81957162 0.89640643]. \n",
      "Current patch size: [112 112 192]. \n",
      "Current median shape: [187.41498867 187.41498867 301.98704229]\n",
      "Attempting to find 3d_lowres config. \n",
      "Current spacing: [0.92329862 0.84415877 0.92329862]. \n",
      "Current patch size: [112 112 192]. \n",
      "Current median shape: [181.95629968 181.95629968 293.19130319]\n",
      "Attempting to find 3d_lowres config. \n",
      "Current spacing: [0.95099758 0.86948353 0.95099758]. \n",
      "Current patch size: [112 112 192]. \n",
      "Current median shape: [176.65660163 176.65660163 284.65175067]\n",
      "2D U-Net configuration:\n",
      "{'data_identifier': 'nnUNetPlans_2d', 'preprocessor_name': 'DefaultPreprocessor', 'batch_size': 13, 'patch_size': array([384, 640]), 'median_image_size_in_voxels': array([512., 825.]), 'spacing': array([0.30000001, 0.328125  ]), 'normalization_schemes': ['CTNormalization'], 'use_mask_for_norm': [False], 'UNet_class_name': 'PlainConvUNet', 'UNet_base_num_features': 32, 'n_conv_per_stage_encoder': (2, 2, 2, 2, 2, 2, 2), 'n_conv_per_stage_decoder': (2, 2, 2, 2, 2, 2), 'num_pool_per_axis': [6, 6], 'pool_op_kernel_sizes': [[1, 1], [2, 2], [2, 2], [2, 2], [2, 2], [2, 2], [2, 2]], 'conv_kernel_sizes': [[3, 3], [3, 3], [3, 3], [3, 3], [3, 3], [3, 3], [3, 3]], 'unet_max_num_features': 512, 'resampling_fn_data': 'resample_data_or_seg_to_shape', 'resampling_fn_seg': 'resample_data_or_seg_to_shape', 'resampling_fn_data_kwargs': {'is_seg': False, 'order': 3, 'order_z': 0, 'force_separate_z': None}, 'resampling_fn_seg_kwargs': {'is_seg': True, 'order': 1, 'order_z': 0, 'force_separate_z': None}, 'resampling_fn_probabilities': 'resample_data_or_seg_to_shape', 'resampling_fn_probabilities_kwargs': {'is_seg': False, 'order': 1, 'order_z': 0, 'force_separate_z': None}, 'batch_dice': True}\n",
      "\n",
      "Using <class 'nnunetv2.imageio.simpleitk_reader_writer.SimpleITKIO'> as reader/writer\n",
      "3D lowres U-Net configuration:\n",
      "{'data_identifier': 'nnUNetPlans_3d_lowres', 'preprocessor_name': 'DefaultPreprocessor', 'batch_size': 2, 'patch_size': array([112, 112, 192]), 'median_image_size_in_voxels': [177, 177, 285], 'spacing': array([0.95099758, 0.86948353, 0.95099758]), 'normalization_schemes': ['CTNormalization'], 'use_mask_for_norm': [False], 'UNet_class_name': 'PlainConvUNet', 'UNet_base_num_features': 32, 'n_conv_per_stage_encoder': (2, 2, 2, 2, 2, 2), 'n_conv_per_stage_decoder': (2, 2, 2, 2, 2), 'num_pool_per_axis': [4, 4, 5], 'pool_op_kernel_sizes': [[1, 1, 1], [2, 2, 2], [2, 2, 2], [2, 2, 2], [2, 2, 2], [1, 1, 2]], 'conv_kernel_sizes': [[3, 3, 3], [3, 3, 3], [3, 3, 3], [3, 3, 3], [3, 3, 3], [3, 3, 3]], 'unet_max_num_features': 320, 'resampling_fn_data': 'resample_data_or_seg_to_shape', 'resampling_fn_seg': 'resample_data_or_seg_to_shape', 'resampling_fn_data_kwargs': {'is_seg': False, 'order': 3, 'order_z': 0, 'force_separate_z': None}, 'resampling_fn_seg_kwargs': {'is_seg': True, 'order': 1, 'order_z': 0, 'force_separate_z': None}, 'resampling_fn_probabilities': 'resample_data_or_seg_to_shape', 'resampling_fn_probabilities_kwargs': {'is_seg': False, 'order': 1, 'order_z': 0, 'force_separate_z': None}, 'batch_dice': False, 'next_stage': '3d_cascade_fullres'}\n",
      "\n",
      "3D fullres U-Net configuration:\n",
      "{'data_identifier': 'nnUNetPlans_3d_fullres', 'preprocessor_name': 'DefaultPreprocessor', 'batch_size': 2, 'patch_size': array([112, 112, 192]), 'median_image_size_in_voxels': array([512., 512., 825.]), 'spacing': array([0.328125  , 0.30000001, 0.328125  ]), 'normalization_schemes': ['CTNormalization'], 'use_mask_for_norm': [False], 'UNet_class_name': 'PlainConvUNet', 'UNet_base_num_features': 32, 'n_conv_per_stage_encoder': (2, 2, 2, 2, 2, 2), 'n_conv_per_stage_decoder': (2, 2, 2, 2, 2), 'num_pool_per_axis': [4, 4, 5], 'pool_op_kernel_sizes': [[1, 1, 1], [2, 2, 2], [2, 2, 2], [2, 2, 2], [2, 2, 2], [1, 1, 2]], 'conv_kernel_sizes': [[3, 3, 3], [3, 3, 3], [3, 3, 3], [3, 3, 3], [3, 3, 3], [3, 3, 3]], 'unet_max_num_features': 320, 'resampling_fn_data': 'resample_data_or_seg_to_shape', 'resampling_fn_seg': 'resample_data_or_seg_to_shape', 'resampling_fn_data_kwargs': {'is_seg': False, 'order': 3, 'order_z': 0, 'force_separate_z': None}, 'resampling_fn_seg_kwargs': {'is_seg': True, 'order': 1, 'order_z': 0, 'force_separate_z': None}, 'resampling_fn_probabilities': 'resample_data_or_seg_to_shape', 'resampling_fn_probabilities_kwargs': {'is_seg': False, 'order': 1, 'order_z': 0, 'force_separate_z': None}, 'batch_dice': True}\n",
      "\n",
      "Plans were saved to /workspace/2024-25ab-fai3-specialisation-project-team-specifix-1/data/segmentation/nnUNet_preprocessed/Dataset062_L_h2/nnUNetPlans.json\n",
      "Preprocessing...\n",
      "Preprocessing dataset Dataset062_L_h2\n",
      "Configuration: 3d_fullres...\n",
      "100%|███████████████████████████████████████████| 24/24 [19:41<00:00, 49.25s/it]\n"
     ]
    }
   ],
   "source": [
    "!poetry run nnUNetv2_plan_and_preprocess -d 062 --verify_dataset_integrity -c 3d_fullres"
   ]
  },
  {
   "cell_type": "code",
   "execution_count": 5,
   "id": "fe72aa89-d00d-4e67-ba4f-c5363cb7f5ac",
   "metadata": {},
   "outputs": [
    {
     "name": "stdout",
     "output_type": "stream",
     "text": [
      "Using GPU is CUDA:1\n",
      "CUDA:0 NVIDIA RTX A6000, 48669.75MB\n"
     ]
    }
   ],
   "source": [
    "import os\n",
    "import torch\n",
    "\n",
    "os.environ[\"CUDA_VISIBLE_DEVICES\"] = \"1\"\n",
    "\n",
    "print(f\"Using GPU is CUDA:{os.environ['CUDA_VISIBLE_DEVICES']}\")\n",
    "\n",
    "for i in range(torch.cuda.device_count()):\n",
    "    info = torch.cuda.get_device_properties(i)\n",
    "    print(f\"CUDA:{i} {info.name}, {info.total_memory / 1024 ** 2}MB\")"
   ]
  },
  {
   "cell_type": "code",
   "execution_count": null,
   "id": "32d56255-1e32-4c18-8b2d-251b772f3db8",
   "metadata": {
    "scrolled": true
   },
   "outputs": [
    {
     "name": "stdout",
     "output_type": "stream",
     "text": [
      "Using device: cuda:0\n",
      "\n",
      "#######################################################################\n",
      "Please cite the following paper when using nnU-Net:\n",
      "Isensee, F., Jaeger, P. F., Kohl, S. A., Petersen, J., & Maier-Hein, K. H. (2021). nnU-Net: a self-configuring method for deep learning-based biomedical image segmentation. Nature methods, 18(2), 203-211.\n",
      "#######################################################################\n",
      "\n",
      "/root/.cache/pypoetry/virtualenvs/specifix-pAjDTqDi-py3.9/lib/python3.9/site-packages/torch/optim/lr_scheduler.py:28: UserWarning: The verbose parameter is deprecated. Please use get_last_lr() to access the learning rate.\n",
      "  warnings.warn(\"The verbose parameter is deprecated. Please use get_last_lr() \"\n",
      "\n",
      "This is the configuration used by this training:\n",
      "Configuration name: 3d_fullres\n",
      " {'data_identifier': 'nnUNetPlans_3d_fullres', 'preprocessor_name': 'DefaultPreprocessor', 'batch_size': 2, 'patch_size': [112, 112, 192], 'median_image_size_in_voxels': [512.0, 512.0, 825.0], 'spacing': [0.328125, 0.30000001192092896, 0.328125], 'normalization_schemes': ['CTNormalization'], 'use_mask_for_norm': [False], 'UNet_class_name': 'PlainConvUNet', 'UNet_base_num_features': 32, 'n_conv_per_stage_encoder': [2, 2, 2, 2, 2, 2], 'n_conv_per_stage_decoder': [2, 2, 2, 2, 2], 'num_pool_per_axis': [4, 4, 5], 'pool_op_kernel_sizes': [[1, 1, 1], [2, 2, 2], [2, 2, 2], [2, 2, 2], [2, 2, 2], [1, 1, 2]], 'conv_kernel_sizes': [[3, 3, 3], [3, 3, 3], [3, 3, 3], [3, 3, 3], [3, 3, 3], [3, 3, 3]], 'unet_max_num_features': 320, 'resampling_fn_data': 'resample_data_or_seg_to_shape', 'resampling_fn_seg': 'resample_data_or_seg_to_shape', 'resampling_fn_data_kwargs': {'is_seg': False, 'order': 3, 'order_z': 0, 'force_separate_z': None}, 'resampling_fn_seg_kwargs': {'is_seg': True, 'order': 1, 'order_z': 0, 'force_separate_z': None}, 'resampling_fn_probabilities': 'resample_data_or_seg_to_shape', 'resampling_fn_probabilities_kwargs': {'is_seg': False, 'order': 1, 'order_z': 0, 'force_separate_z': None}, 'batch_dice': True} \n",
      "\n",
      "These are the global plan.json settings:\n",
      " {'dataset_name': 'Dataset062_L_h2', 'plans_name': 'nnUNetPlans', 'original_median_spacing_after_transp': [0.328125, 0.30000001192092896, 0.328125], 'original_median_shape_after_transp': [512, 512, 914], 'image_reader_writer': 'SimpleITKIO', 'transpose_forward': [1, 0, 2], 'transpose_backward': [1, 0, 2], 'experiment_planner_used': 'ExperimentPlanner', 'label_manager': 'LabelManager', 'foreground_intensity_properties_per_channel': {'0': {'max': 3309.0, 'mean': 1580.20654296875, 'median': 1495.0, 'min': 1222.0, 'percentile_00_5': 1251.0, 'percentile_99_5': 2653.0, 'std': 292.1981201171875}}} \n",
      "\n",
      "2024-11-29 11:20:01.320576: unpacking dataset...\n",
      "2024-11-29 11:20:29.701872: unpacking done...\n",
      "2024-11-29 11:20:29.703142: do_dummy_2d_data_aug: False\n",
      "2024-11-29 11:20:29.704005: Creating new 5-fold cross-validation split...\n",
      "2024-11-29 11:20:29.705406: Desired fold for training: 0\n",
      "2024-11-29 11:20:29.705494: This split has 19 training and 5 validation cases.\n",
      "2024-11-29 11:20:29.755501: Unable to plot network architecture:\n",
      "2024-11-29 11:20:29.755622: No module named 'hiddenlayer'\n",
      "2024-11-29 11:20:29.799870: \n",
      "2024-11-29 11:20:29.799981: Epoch 0\n",
      "2024-11-29 11:20:29.800174: Current learning rate: 0.01\n",
      "using pin_memory on device 0\n",
      "using pin_memory on device 0\n",
      "2024-11-29 11:21:35.638122: train_loss 0.0447\n",
      "2024-11-29 11:21:35.638499: val_loss 0.0034\n",
      "2024-11-29 11:21:35.638617: Pseudo dice [0.0]\n",
      "2024-11-29 11:21:35.638742: Epoch time: 65.84 s\n",
      "2024-11-29 11:21:35.638839: Yayy! New best EMA pseudo Dice: 0.0\n",
      "2024-11-29 11:21:37.753307: \n",
      "2024-11-29 11:21:37.753690: Epoch 1\n",
      "2024-11-29 11:21:37.753913: Current learning rate: 0.00999\n",
      "2024-11-29 11:22:38.703631: train_loss -0.0277\n",
      "2024-11-29 11:22:38.704509: val_loss -0.0705\n",
      "2024-11-29 11:22:38.704609: Pseudo dice [0.0]\n",
      "2024-11-29 11:22:38.704803: Epoch time: 60.95 s\n",
      "2024-11-29 11:22:40.783819: \n",
      "2024-11-29 11:22:40.783986: Epoch 2\n",
      "2024-11-29 11:22:40.784131: Current learning rate: 0.00998\n",
      "2024-11-29 11:23:42.053138: train_loss -0.1285\n",
      "2024-11-29 11:23:42.053513: val_loss -0.0982\n",
      "2024-11-29 11:23:42.053609: Pseudo dice [0.0]\n",
      "2024-11-29 11:23:42.053721: Epoch time: 61.27 s\n",
      "2024-11-29 11:23:43.938789: \n",
      "2024-11-29 11:23:43.939092: Epoch 3\n",
      "2024-11-29 11:23:43.939236: Current learning rate: 0.00997\n"
     ]
    }
   ],
   "source": [
    "!poetry run nnUNetv2_train 062 3d_fullres 0 "
   ]
  },
  {
   "cell_type": "code",
   "execution_count": null,
   "id": "6487c1ef-3b00-46b7-96e3-75db39e5fe18",
   "metadata": {},
   "outputs": [],
   "source": []
  }
 ],
 "metadata": {
  "kernelspec": {
   "display_name": "Python (Poetry)",
   "language": "python",
   "name": "poetry-env"
  },
  "language_info": {
   "codemirror_mode": {
    "name": "ipython",
    "version": 3
   },
   "file_extension": ".py",
   "mimetype": "text/x-python",
   "name": "python",
   "nbconvert_exporter": "python",
   "pygments_lexer": "ipython3",
   "version": "3.9.20"
  }
 },
 "nbformat": 4,
 "nbformat_minor": 5
}
