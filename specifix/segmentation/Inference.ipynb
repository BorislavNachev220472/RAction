{
 "cells": [
  {
   "cell_type": "code",
   "execution_count": 1,
   "id": "c7d13115-8842-4f79-bdfe-5dedddd5ac95",
   "metadata": {},
   "outputs": [
    {
     "name": "stdout",
     "output_type": "stream",
     "text": [
      "True\n"
     ]
    }
   ],
   "source": [
    "import torch\n",
    "\n",
    "print(torch.cuda.is_available())"
   ]
  },
  {
   "cell_type": "code",
   "execution_count": 11,
   "id": "f62d1b96-d59c-4580-b50a-ea313c790dd9",
   "metadata": {},
   "outputs": [
    {
     "name": "stdout",
     "output_type": "stream",
     "text": [
      "nnUNet_raw=/workspace/2024-25ab-fai3-specialisation-project-team-specifix-1/data/segmentation/inference/nnUNet_raw\n",
      "nnUNet_preprocessed=/workspace/2024-25ab-fai3-specialisation-project-team-specifix-1/data/segmentation/inference/nnUNet_preprocessed\n",
      "nnUNet_results=/workspace/2024-25ab-fai3-specialisation-project-team-specifix-1/data/segmentation/inference/nnUNet_results\n",
      "\n"
     ]
    }
   ],
   "source": [
    "data = {\n",
    "'nnUNet_raw':'/workspace/2024-25ab-fai3-specialisation-project-team-specifix-1/data/segmentation/inference/nnUNet_raw',\n",
    "'nnUNet_preprocessed':'/workspace/2024-25ab-fai3-specialisation-project-team-specifix-1/data/segmentation/inference/nnUNet_preprocessed',\n",
    "'nnUNet_results':'/workspace/2024-25ab-fai3-specialisation-project-team-specifix-1/data/segmentation/inference/nnUNet_results'\n",
    "}\n",
    "\n",
    "with open('.env', 'w') as file:\n",
    "    for key in data:\n",
    "        file.write(f'{key}={data[key]}\\n')\n",
    "\n",
    "with open('.env', 'r') as file:\n",
    "    cf = file.read()\n",
    "print(cf)"
   ]
  },
  {
   "cell_type": "code",
   "execution_count": 12,
   "id": "1237a831-4f8d-4c0b-8ab1-f128ef1e75f4",
   "metadata": {},
   "outputs": [
    {
     "data": {
      "text/plain": [
       "True"
      ]
     },
     "execution_count": 12,
     "metadata": {},
     "output_type": "execute_result"
    }
   ],
   "source": [
    "import os\n",
    "from dotenv import load_dotenv\n",
    "import subprocess\n",
    " \n",
    "   # Load environment variables from .env file\n",
    "load_dotenv(override=True)"
   ]
  },
  {
   "cell_type": "markdown",
   "id": "a9f2a658-5f76-4d20-939d-ccb5d1216fc4",
   "metadata": {},
   "source": [
    "# Inference"
   ]
  },
  {
   "cell_type": "code",
   "execution_count": 13,
   "id": "c1dcc528-b3ad-4600-a695-5192e9b81820",
   "metadata": {},
   "outputs": [],
   "source": [
    "data_dir = '/workspace/2024-25ab-fai3-specialisation-project-team-specifix-1/data/segmentation'\n",
    "model_name = 'Dataset019_ulna'\n",
    "raw_ct_location = data_dir + '/imagesTr'\n",
    "input_directory = data_dir + '/inference/nnUNet_raw/input_images'\n",
    "output_directory = data_dir + f'/inference/nnUNet_raw/output_prediction_{model_name}'\n",
    "cts = ['F039', 'P068']"
   ]
  },
  {
   "cell_type": "code",
   "execution_count": 14,
   "id": "4236e85e-6ec9-417a-8c43-84d67a4ce3af",
   "metadata": {},
   "outputs": [],
   "source": [
    "import os\n",
    "import shutil\n",
    "\n",
    "shutil.rmtree(input_directory)\n",
    "os.mkdir(input_directory)\n",
    "\n",
    "for ct in cts:\n",
    "    current_absolute_path = f'{raw_ct_location}/{ct}_0000.nii.gz'\n",
    "    new_absolute_path = f'{input_directory}/{ct}_0000.nii.gz'\n",
    "    shutil.copy(current_absolute_path, new_absolute_path)"
   ]
  },
  {
   "cell_type": "code",
   "execution_count": null,
   "id": "9dc0c18c-2454-458f-a62a-3628b9d56fcc",
   "metadata": {},
   "outputs": [
    {
     "name": "stdout",
     "output_type": "stream",
     "text": [
      "\n",
      "#######################################################################\n",
      "Please cite the following paper when using nnU-Net:\n",
      "Isensee, F., Jaeger, P. F., Kohl, S. A., Petersen, J., & Maier-Hein, K. H. (2021). nnU-Net: a self-configuring method for deep learning-based biomedical image segmentation. Nature methods, 18(2), 203-211.\n",
      "#######################################################################\n",
      "\n",
      "There are 2 cases in the source folder\n",
      "I am process 0 out of 1 (max process ID is 0, we start counting with 0!)\n",
      "There are 2 cases that I would like to predict\n"
     ]
    }
   ],
   "source": [
    "command = [\n",
    "    \"poetry\", \"run\", \"nnUNetv2_predict\",\n",
    "    \"-i\", f\"{input_directory}\",\n",
    "    \"-o\", f\"{output_directory}\",\n",
    "    \"-d\", f\"{model_name}\",\n",
    "    \"-c\", \"3d_fullres\",\n",
    "    \"-f\", \"0\"\n",
    "]\n",
    "\n",
    "try:\n",
    "    subprocess.run(command, check=True)\n",
    "    print(\"Prediction completed successfully.\")\n",
    "except subprocess.CalledProcessError as e:\n",
    "    print(f\"Error during prediction: {e}\")"
   ]
  },
  {
   "cell_type": "code",
   "execution_count": null,
   "id": "77312065-291e-4799-936c-81d7e93d6284",
   "metadata": {},
   "outputs": [],
   "source": []
  }
 ],
 "metadata": {
  "kernelspec": {
   "display_name": "Python (Poetry)",
   "language": "python",
   "name": "poetry-env"
  },
  "language_info": {
   "codemirror_mode": {
    "name": "ipython",
    "version": 3
   },
   "file_extension": ".py",
   "mimetype": "text/x-python",
   "name": "python",
   "nbconvert_exporter": "python",
   "pygments_lexer": "ipython3",
   "version": "3.9.20"
  }
 },
 "nbformat": 4,
 "nbformat_minor": 5
}
