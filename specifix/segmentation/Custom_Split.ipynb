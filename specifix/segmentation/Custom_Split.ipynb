{
 "cells": [
  {
   "cell_type": "code",
   "execution_count": 1,
   "id": "49109bd7-352e-489a-b206-102994f165a0",
   "metadata": {},
   "outputs": [],
   "source": [
    "import json\n",
    "import os"
   ]
  },
  {
   "cell_type": "code",
   "execution_count": 38,
   "id": "9b75e56c-d862-4acd-9749-cdc34fce67e6",
   "metadata": {},
   "outputs": [],
   "source": [
    "dataset_name = 'Dataset003_multiclass'\n",
    "\n",
    "training_dir = f'/workspace/2024-25ab-fai3-specialisation-project-team-specifix-1/data/nnUNet_raw/{dataset_name}/labelsTr'\n",
    "\n",
    "validation_split = ['F039', 'F115', 'F116', 'F124', 'F126', 'F130',\n",
    "                    'F142', 'F144', 'F145', 'P066', 'P069', 'P074']\n",
    "\n",
    "validate = [x for x in validation_split if os.path.exists(os.path.join(training_dir, f'{x}.nii.gz'))]\n",
    "\n",
    "assert len(validate) == len(validation_split)"
   ]
  },
  {
   "cell_type": "code",
   "execution_count": 33,
   "id": "047b72a8-6438-4d28-ad3a-1d9d67973999",
   "metadata": {},
   "outputs": [],
   "source": [
    "training_split = [x.split('.')[0] for x in os.listdir(training_dir) if x.split('.')[0] not in validation_split and not os.path.isdir(x)]\n",
    "\n",
    "splits_json = [\n",
    "    {\n",
    "        \"train\": training_split,\n",
    "        \"val\": validation_split\n",
    "    }\n",
    "]"
   ]
  },
  {
   "cell_type": "code",
   "execution_count": 34,
   "id": "d6eba26a-8df9-4e8c-967d-ef9617199d31",
   "metadata": {},
   "outputs": [
    {
     "name": "stdout",
     "output_type": "stream",
     "text": [
      "Training size: 46\n",
      "Test size: 12\n"
     ]
    }
   ],
   "source": [
    "print(f'Training size: {len(splits_json[0][\"train\"])}')\n",
    "print(f'Test size: {len(splits_json[0][\"val\"])}')"
   ]
  },
  {
   "cell_type": "code",
   "execution_count": 36,
   "id": "ccd1a2ef-4d05-4495-aef0-90d8df6e604b",
   "metadata": {},
   "outputs": [],
   "source": [
    "save_path = f'/workspace/2024-25ab-fai3-specialisation-project-team-specifix-1/data/nnUNet_preprocessed/{dataset_name}/splits_final.json'\n",
    "\n",
    "# with open(save_path, 'w') as outfile:\n",
    "    # outfile.write(json.dumps(splits_json, indent=3))"
   ]
  },
  {
   "cell_type": "code",
   "execution_count": null,
   "id": "6eaa789a-62b5-4f96-8989-3935b2f184b4",
   "metadata": {},
   "outputs": [],
   "source": []
  }
 ],
 "metadata": {
  "kernelspec": {
   "display_name": "Python (Poetry)",
   "language": "python",
   "name": "poetry-env"
  },
  "language_info": {
   "codemirror_mode": {
    "name": "ipython",
    "version": 3
   },
   "file_extension": ".py",
   "mimetype": "text/x-python",
   "name": "python",
   "nbconvert_exporter": "python",
   "pygments_lexer": "ipython3",
   "version": "3.9.20"
  }
 },
 "nbformat": 4,
 "nbformat_minor": 5
}
