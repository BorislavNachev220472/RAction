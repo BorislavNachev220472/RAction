{
 "cells": [
  {
   "metadata": {},
   "cell_type": "markdown",
   "source": [
    "# Notebook containing code snippets\n",
    "\n",
    "\n",
    "![Flowchart](../../data/flowchart.jpg)"
   ],
   "id": "58cde5fb1642cafd"
  },
  {
   "metadata": {},
   "cell_type": "markdown",
   "source": [
    "## Converter\n",
    "* nifti -> nrrd \n",
    "* nifti -> tiffs\n",
    "* nifti -> single label tiffs\n",
    "* *deprecated* align"
   ],
   "id": "f12a0f264ea897c8"
  },
  {
   "cell_type": "code",
   "id": "initial_id",
   "metadata": {
    "collapsed": true,
    "ExecuteTime": {
     "end_time": "2024-11-28T10:07:18.558162Z",
     "start_time": "2024-11-28T10:07:18.335977Z"
    }
   },
   "source": "from cli.converter import Nifti",
   "outputs": [],
   "execution_count": 1
  },
  {
   "metadata": {
    "ExecuteTime": {
     "end_time": "2024-11-28T10:07:18.672298Z",
     "start_time": "2024-11-28T10:07:18.562344Z"
    }
   },
   "cell_type": "code",
   "source": [
    "base_input_dir = './data/'\n",
    "base_output_dir = './data/'\n",
    "\n",
    "converter = Nifti(base_input_dir, base_output_dir, reference_filename='./data/F020.nii.gz')"
   ],
   "id": "f588b4d5a8c9b218",
   "outputs": [],
   "execution_count": 2
  },
  {
   "metadata": {
    "ExecuteTime": {
     "end_time": "2024-11-28T10:07:22.838987Z",
     "start_time": "2024-11-28T10:07:19.187209Z"
    }
   },
   "cell_type": "code",
   "source": [
    "(converter\n",
    " .set_output_relative_to_input_dir().set_output_folder('test')\n",
    " .build()\n",
    " .to_label_nrrds('F020.nii.gz'))"
   ],
   "id": "6a3908b24a8e39f",
   "outputs": [
    {
     "name": "stdout",
     "output_type": "stream",
     "text": [
      "\n",
      "test\n",
      "()\n",
      "\n",
      "Reading file: './data/F020.nii.gz'.\n",
      "Unique labels found: [ 3  4  9 10 13]\n",
      "F020\\nrrd\n",
      "Saved file: './data/test\\F020\\nrrd\\dDC.nrrd'.\n",
      "()\n",
      "F020\\nrrd\n",
      "Saved file: './data/test\\F020\\nrrd\\dDU.nrrd'.\n",
      "()\n",
      "F020\\nrrd\n",
      "Saved file: './data/test\\F020\\nrrd\\p1DR1.nrrd'.\n",
      "()\n",
      "F020\\nrrd\n",
      "Saved file: './data/test\\F020\\nrrd\\p1DR2.nrrd'.\n",
      "()\n",
      "F020\\nrrd\n",
      "Saved file: './data/test\\F020\\nrrd\\p1VU1.nrrd'.\n",
      "()\n"
     ]
    },
    {
     "data": {
      "text/plain": [
       "(0.298828125, 0.298828125, 0.5999999642372131)"
      ]
     },
     "execution_count": 3,
     "metadata": {},
     "output_type": "execute_result"
    }
   ],
   "execution_count": 3
  },
  {
   "metadata": {},
   "cell_type": "markdown",
   "source": [
    "## Mesh\n",
    "* generate_mesh -> mesh\n",
    "* generate_meshes -> mesh\n",
    "* process_image_to_stl -> mesh"
   ],
   "id": "86f9b723eb8cd9a3"
  },
  {
   "metadata": {
    "ExecuteTime": {
     "end_time": "2024-11-28T16:00:23.149256Z",
     "start_time": "2024-11-28T16:00:22.223507Z"
    }
   },
   "cell_type": "code",
   "source": "from cli.mesh import Mesh",
   "id": "1fdc8c27be003d79",
   "outputs": [],
   "execution_count": 1
  },
  {
   "metadata": {
    "ExecuteTime": {
     "end_time": "2024-11-28T16:00:24.500989Z",
     "start_time": "2024-11-28T16:00:23.151247Z"
    }
   },
   "cell_type": "code",
   "source": [
    "base_input_dir = './data/'\n",
    "base_output_dir = './data/'\n",
    "\n",
    "mesh = Mesh(base_input_dir, base_output_dir, reference_filename='./data/ImagesTR/F020_0000.nii.gz')"
   ],
   "id": "3b44d5c77cce5c6",
   "outputs": [],
   "execution_count": 2
  },
  {
   "metadata": {
    "ExecuteTime": {
     "end_time": "2024-11-28T16:01:09.156144Z",
     "start_time": "2024-11-28T16:00:27.530526Z"
    }
   },
   "cell_type": "code",
   "source": [
    "(mesh\n",
    " .set_output_folder('mesh8')\n",
    " .build()\n",
    " .generate_mesh('F0201.nii.gz'))"
   ],
   "id": "a2aa7268151d4e28",
   "outputs": [
    {
     "name": "stdout",
     "output_type": "stream",
     "text": [
      "\n",
      "mesh8\n",
      "()\n",
      "\n",
      "Reading file: './data/F0201.nii.gz'.\n",
      "Unique labels found: [ 3  4  9 10 13]\n",
      "Number of slices: 3\n",
      "DataSpacing: (0.5999999642372131, 0.298828125, 0.298828125)\n",
      "Number of slices: 4\n",
      "./data/mesh8\\dDC.stl\n",
      "DataSpacing: (0.5999999642372131, 0.298828125, 0.298828125)\n",
      "Number of slices: 9\n",
      "./data/mesh8\\dDU.stl\n",
      "Number of slices: 10\n",
      "DataSpacing: (0.5999999642372131, 0.298828125, 0.298828125)\n",
      "DataSpacing: (0.5999999642372131, 0.298828125, 0.298828125)\n",
      "Number of slices: 13\n",
      "./data/mesh8\\p1DR1.stl\n",
      "./data/mesh8\\p1DR2.stl\n",
      "DataSpacing: (0.5999999642372131, 0.298828125, 0.298828125)\n",
      "./data/mesh8\\p1VU1.stl\n",
      "The script took 41.59 seconds to run.\n"
     ]
    }
   ],
   "execution_count": 3
  },
  {
   "metadata": {},
   "cell_type": "markdown",
   "source": [
    "## Shell\n",
    "* process_ct_scan -> Nifti file"
   ],
   "id": "f5f5bedab075ed32"
  },
  {
   "metadata": {
    "ExecuteTime": {
     "end_time": "2024-11-28T07:13:35.663627Z",
     "start_time": "2024-11-28T07:13:35.190874Z"
    }
   },
   "cell_type": "code",
   "source": "from cli.shell import Shell",
   "id": "d03d53053ba1d7fd",
   "outputs": [],
   "execution_count": 1
  },
  {
   "metadata": {
    "ExecuteTime": {
     "end_time": "2024-11-28T07:13:35.770504Z",
     "start_time": "2024-11-28T07:13:35.663880Z"
    }
   },
   "cell_type": "code",
   "source": [
    "base_input_dir = './data/'\n",
    "base_output_dir = './data/'\n",
    "\n",
    "shell = Shell(base_input_dir, base_output_dir, reference_filename='./data/F020.nii.gz')"
   ],
   "id": "1624e7d7ecc83322",
   "outputs": [],
   "execution_count": 2
  },
  {
   "metadata": {
    "ExecuteTime": {
     "end_time": "2024-11-28T07:14:03.062546Z",
     "start_time": "2024-11-28T07:13:36.256449Z"
    }
   },
   "cell_type": "code",
   "source": [
    "(shell\n",
    " .set_inner_folder('test')\n",
    " .set_output_folder('shell')\n",
    " .build()\n",
    " .process_ct_scan('F020', 'F020.nii.gz'))"
   ],
   "id": "5350759eb387eea7",
   "outputs": [
    {
     "name": "stdout",
     "output_type": "stream",
     "text": [
      "test\n",
      "shell\n",
      "()\n",
      "F020\\nrrd\n",
      "F020\\nrrd\n",
      "Reading file: './data/test\\F020\\nrrd\\dDC.nrrd'.\n",
      "F020\\nrrd\n",
      "Reading file: './data/test\\F020\\nrrd\\dDU.nrrd'.\n",
      "F020\\nrrd\n",
      "Reading file: './data/test\\F020\\nrrd\\p1DR1.nrrd'.\n",
      "F020\\nrrd\n",
      "Reading file: './data/test\\F020\\nrrd\\p1DR2.nrrd'.\n",
      "F020\\nrrd\n",
      "Reading file: './data/test\\F020\\nrrd\\p1VU1.nrrd'.\n",
      "\n",
      "Saved file: './data/shell\\F020.nii.gz'.\n",
      "()\n",
      "Processed mask saved to F020.nii.gz\n"
     ]
    }
   ],
   "execution_count": 3
  },
  {
   "metadata": {},
   "cell_type": "markdown",
   "source": [
    "## Generator\n",
    "* process_single_ct_scan -> Nifti\n",
    "* process_all -> Nifti"
   ],
   "id": "c620bc5d70b0ce7c"
  },
  {
   "metadata": {
    "ExecuteTime": {
     "end_time": "2024-11-28T10:06:00.937376Z",
     "start_time": "2024-11-28T10:06:00.716424Z"
    }
   },
   "cell_type": "code",
   "source": "from cli.generator import Generator",
   "id": "762e7a5598e27e85",
   "outputs": [],
   "execution_count": 1
  },
  {
   "metadata": {
    "ExecuteTime": {
     "end_time": "2024-11-28T10:06:01.620397Z",
     "start_time": "2024-11-28T10:06:01.429272Z"
    }
   },
   "cell_type": "code",
   "source": [
    "base_input_dir = './data/'\n",
    "base_output_dir = './data/'\n",
    "\n",
    "generator = Generator(base_input_dir, base_output_dir, reference_filename='./data/F020.nii.gz')"
   ],
   "id": "e1980b4a6599b432",
   "outputs": [],
   "execution_count": 2
  },
  {
   "metadata": {
    "ExecuteTime": {
     "end_time": "2024-11-28T07:14:33.304961Z",
     "start_time": "2024-11-28T07:14:31.294372Z"
    }
   },
   "cell_type": "code",
   "source": [
    "(generator\n",
    " .set_inner_folder('test')\n",
    " .set_output_folder('generated')\n",
    " .build()\n",
    " .process_single_ct_scan('F020', 'F020.nii.gz'))"
   ],
   "id": "7ea81641c8b6b57c",
   "outputs": [
    {
     "name": "stdout",
     "output_type": "stream",
     "text": [
      "test\n",
      "generated\n",
      "()\n",
      "F020\\nrrd\n",
      "F020\\nrrd\n",
      "Reading file: './data/test\\F020\\nrrd\\dDC.nrrd'.\n",
      "F020\\nrrd\n",
      "Reading file: './data/test\\F020\\nrrd\\dDU.nrrd'.\n",
      "F020\\nrrd\n",
      "Reading file: './data/test\\F020\\nrrd\\p1DR1.nrrd'.\n",
      "F020\\nrrd\n",
      "Reading file: './data/test\\F020\\nrrd\\p1DR2.nrrd'.\n",
      "F020\\nrrd\n",
      "Reading file: './data/test\\F020\\nrrd\\p1VU1.nrrd'.\n",
      "(0.298828125, 0.298828125, 0.5999999642372131)\n",
      "\n",
      "Saved file: './data/generated\\F020.nii.gz'.\n",
      "()\n"
     ]
    }
   ],
   "execution_count": 3
  },
  {
   "metadata": {},
   "cell_type": "code",
   "outputs": [],
   "execution_count": null,
   "source": "",
   "id": "40de479ebc31685"
  }
 ],
 "metadata": {
  "kernelspec": {
   "display_name": "Python 3",
   "language": "python",
   "name": "python3"
  },
  "language_info": {
   "codemirror_mode": {
    "name": "ipython",
    "version": 2
   },
   "file_extension": ".py",
   "mimetype": "text/x-python",
   "name": "python",
   "nbconvert_exporter": "python",
   "pygments_lexer": "ipython2",
   "version": "2.7.6"
  }
 },
 "nbformat": 4,
 "nbformat_minor": 5
}
