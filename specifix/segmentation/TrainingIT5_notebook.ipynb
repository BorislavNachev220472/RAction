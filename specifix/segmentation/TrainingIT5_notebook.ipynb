{
 "cells": [
  {
   "cell_type": "code",
   "execution_count": 1,
   "id": "f959786d-906c-455f-bbbe-137531affbfb",
   "metadata": {},
   "outputs": [
    {
     "name": "stdout",
     "output_type": "stream",
     "text": [
      "True\n"
     ]
    }
   ],
   "source": [
    "import torch\n",
    "\n",
    "print(torch.cuda.is_available())"
   ]
  },
  {
   "cell_type": "code",
   "execution_count": 2,
   "id": "15fa2906-ab52-4ca2-9329-346c281cf7e0",
   "metadata": {},
   "outputs": [
    {
     "name": "stdout",
     "output_type": "stream",
     "text": [
      "nnUNet_raw=/workspace/2024-25ab-fai3-specialisation-project-team-specifix-1/data/segmentation/nnUNet_raw\n",
      "nnUNet_preprocessed=/workspace/2024-25ab-fai3-specialisation-project-team-specifix-1/data/segmentation/nnUNet_preprocessed\n",
      "nnUNet_results=/workspace/2024-25ab-fai3-specialisation-project-team-specifix-1/data/segmentation/nnUNet_results\n",
      "\n"
     ]
    }
   ],
   "source": [
    "data = {\n",
    "'nnUNet_raw':'/workspace/2024-25ab-fai3-specialisation-project-team-specifix-1/data/segmentation/nnUNet_raw',\n",
    "'nnUNet_preprocessed':'/workspace/2024-25ab-fai3-specialisation-project-team-specifix-1/data/segmentation/nnUNet_preprocessed',\n",
    "'nnUNet_results':'/workspace/2024-25ab-fai3-specialisation-project-team-specifix-1/data/segmentation/nnUNet_results'\n",
    "}\n",
    "\n",
    "with open('.env', 'w') as file:\n",
    "    for key in data:\n",
    "        file.write(f'{key}={data[key]}\\n')\n",
    "\n",
    "with open('.env', 'r') as file:\n",
    "    cf = file.read()\n",
    "print(cf)"
   ]
  },
  {
   "cell_type": "code",
   "execution_count": 3,
   "id": "e95cbec4-faba-4f1d-b5de-c8332029095f",
   "metadata": {},
   "outputs": [
    {
     "data": {
      "text/plain": [
       "True"
      ]
     },
     "execution_count": 3,
     "metadata": {},
     "output_type": "execute_result"
    }
   ],
   "source": [
    "import os\n",
    "from dotenv import load_dotenv\n",
    "import subprocess\n",
    " \n",
    "   # Load environment variables from .env file\n",
    "load_dotenv(override=True)"
   ]
  },
  {
   "cell_type": "code",
   "execution_count": 4,
   "id": "9ad0f084-0acc-403c-811e-ae4b249c300f",
   "metadata": {
    "scrolled": true
   },
   "outputs": [
    {
     "name": "stdout",
     "output_type": "stream",
     "text": [
      "Fingerprint extraction...\n",
      "Dataset064_p1DR1_h2\n",
      "Using <class 'nnunetv2.imageio.simpleitk_reader_writer.SimpleITKIO'> as reader/writer\n",
      "\n",
      "####################\n",
      "verify_dataset_integrity Done. \n",
      "If you didn't see any error messages then your dataset is most likely OK!\n",
      "####################\n",
      "\n",
      "Using <class 'nnunetv2.imageio.simpleitk_reader_writer.SimpleITKIO'> as reader/writer\n",
      "100%|███████████████████████████████████████████| 39/39 [01:04<00:00,  1.67s/it]\n",
      "Experiment planning...\n",
      "Attempting to find 3d_lowres config. \n",
      "Current spacing: [0.61799996 0.35003931 0.35003931]. \n",
      "Current patch size: [128 112 160]. \n",
      "Current median shape: [497.08737864 488.34951456 743.68932039]\n",
      "Attempting to find 3d_lowres config. \n",
      "Current spacing: [0.63653996 0.36054049 0.36054049]. \n",
      "Current patch size: [128 112 160]. \n",
      "Current median shape: [482.60910548 474.12574229 722.0284664 ]\n",
      "Attempting to find 3d_lowres config. \n",
      "Current spacing: [0.65563616 0.3713567  0.3713567 ]. \n",
      "Current patch size: [128 112 160]. \n",
      "Current median shape: [468.55252959 460.31625465 700.99851106]\n",
      "Attempting to find 3d_lowres config. \n",
      "Current spacing: [0.67530525 0.3824974  0.3824974 ]. \n",
      "Current patch size: [128 112 160]. \n",
      "Current median shape: [454.90536853 446.9089851  680.5810787 ]\n",
      "Attempting to find 3d_lowres config. \n",
      "Current spacing: [0.6955644  0.39397233 0.39397233]. \n",
      "Current patch size: [128 112 160]. \n",
      "Current median shape: [441.6556976  433.89221855 660.75832884]\n",
      "Attempting to find 3d_lowres config. \n",
      "Current spacing: [0.71643134 0.40579149 0.40579149]. \n",
      "Current patch size: [128 112 160]. \n",
      "Current median shape: [428.79193942 421.25458111 641.51294062]\n",
      "Attempting to find 3d_lowres config. \n",
      "Current spacing: [0.73792428 0.41796524 0.41796524]. \n",
      "Current patch size: [128 112 160]. \n",
      "Current median shape: [416.30285381 408.98503021 622.82809769]\n",
      "Attempting to find 3d_lowres config. \n",
      "Current spacing: [0.760062  0.4305042 0.4305042]. \n",
      "Current patch size: [128 112 160]. \n",
      "Current median shape: [404.17752797 397.07284486 604.68747348]\n",
      "Attempting to find 3d_lowres config. \n",
      "Current spacing: [0.78286386 0.44341932 0.44341932]. \n",
      "Current patch size: [128 112 160]. \n",
      "Current median shape: [392.40536696 385.50761637 587.07521698]\n",
      "Attempting to find 3d_lowres config. \n",
      "Current spacing: [0.80634978 0.4567219  0.4567219 ]. \n",
      "Current patch size: [128 112 160]. \n",
      "Current median shape: [380.97608443 374.27923919 569.97593881]\n",
      "Attempting to find 3d_lowres config. \n",
      "Current spacing: [0.83054027 0.47042356 0.47042356]. \n",
      "Current patch size: [128 112 160]. \n",
      "Current median shape: [369.87969362 363.37790213 553.37469787]\n",
      "Attempting to find 3d_lowres config. \n",
      "Current spacing: [0.85545648 0.48453627 0.48453627]. \n",
      "Current patch size: [128 112 160]. \n",
      "Current median shape: [359.10649866 352.79407974 537.25698823]\n",
      "Attempting to find 3d_lowres config. \n",
      "Current spacing: [0.88112018 0.49907235 0.49907235]. \n",
      "Current patch size: [128 112 160]. \n",
      "Current median shape: [348.64708608 342.51852402 521.60872643]\n",
      "Attempting to find 3d_lowres config. \n",
      "Current spacing: [0.90755378 0.51404452 0.51404452]. \n",
      "Current patch size: [128 112 160]. \n",
      "Current median shape: [338.49231658 332.54225633 506.41623926]\n",
      "Attempting to find 3d_lowres config. \n",
      "Current spacing: [0.93478039 0.52946586 0.52946586]. \n",
      "Current patch size: [128 112 160]. \n",
      "Current median shape: [328.63331707 322.85655954 491.66625171]\n",
      "Attempting to find 3d_lowres config. \n",
      "Current spacing: [0.96282381 0.54534984 0.54534984]. \n",
      "Current patch size: [128 112 160]. \n",
      "Current median shape: [319.06147288 313.45297043 477.34587544]\n",
      "Attempting to find 3d_lowres config. \n",
      "Current spacing: [0.99170852 0.56171033 0.56171033]. \n",
      "Current patch size: [128 112 160]. \n",
      "Current median shape: [309.76842027 304.32327226 463.44259752]\n",
      "Attempting to find 3d_lowres config. \n",
      "Current spacing: [1.02145978 0.57856164 0.57856164]. \n",
      "Current patch size: [128 112 160]. \n",
      "Current median shape: [300.7460391  295.45948763 449.94426943]\n",
      "Attempting to find 3d_lowres config. \n",
      "Current spacing: [1.05210357 0.59591849 0.59591849]. \n",
      "Current patch size: [128 112 160]. \n",
      "Current median shape: [291.98644573 286.85387149 436.83909654]\n",
      "Attempting to find 3d_lowres config. \n",
      "Current spacing: [1.08366668 0.61379605 0.61379605]. \n",
      "Current patch size: [128 112 160]. \n",
      "Current median shape: [283.48198614 278.49890436 424.11562771]\n",
      "Attempting to find 3d_lowres config. \n",
      "Current spacing: [1.11617668 0.63220993 0.63220993]. \n",
      "Current patch size: [128 112 160]. \n",
      "Current median shape: [275.22522927 270.38728578 411.76274535]\n",
      "Attempting to find 3d_lowres config. \n",
      "Current spacing: [1.14966198 0.65117622 0.65117622]. \n",
      "Current patch size: [128 112 160]. \n",
      "Current median shape: [267.20896045 262.51192794 399.76965568]\n",
      "Attempting to find 3d_lowres config. \n",
      "Current spacing: [1.18415184 0.67071151 0.67071151]. \n",
      "Current patch size: [128 112 160]. \n",
      "Current median shape: [259.4261752  254.86594946 388.1258793 ]\n",
      "Attempting to find 3d_lowres config. \n",
      "Current spacing: [1.21967639 0.69083286 0.69083286]. \n",
      "Current patch size: [128 112 160]. \n",
      "Current median shape: [251.87007301 247.44266938 376.82124204]\n",
      "Attempting to find 3d_lowres config. \n",
      "Current spacing: [1.25626668 0.71155784 0.71155784]. \n",
      "Current patch size: [128 112 160]. \n",
      "Current median shape: [244.53405146 240.23560134 365.84586605]\n",
      "Attempting to find 3d_lowres config. \n",
      "Current spacing: [1.29395468 0.73290458 0.73290458]. \n",
      "Current patch size: [128 112 160]. \n",
      "Current median shape: [237.41170045 233.2384479  355.19016122]\n",
      "Attempting to find 3d_lowres config. \n",
      "Current spacing: [1.33277332 0.75489172 0.75489172]. \n",
      "Current patch size: [128 112 160]. \n",
      "Current median shape: [230.49679655 226.44509505 344.84481672]\n",
      "Attempting to find 3d_lowres config. \n",
      "Current spacing: [1.37275652 0.77753847 0.77753847]. \n",
      "Current patch size: [128 112 160]. \n",
      "Current median shape: [223.78329762 219.84960684 334.80079293]\n",
      "Attempting to find 3d_lowres config. \n",
      "Current spacing: [1.41393922 0.80086462 0.80086462]. \n",
      "Current patch size: [128 112 160]. \n",
      "Current median shape: [217.2653375  213.44622024 325.04931352]\n",
      "Attempting to find 3d_lowres config. \n",
      "Current spacing: [1.4563574  0.82489056 0.82489056]. \n",
      "Current patch size: [128 112 160]. \n",
      "Current median shape: [210.93722087 207.22934004 315.58185779]\n",
      "Attempting to find 3d_lowres config. \n",
      "Current spacing: [1.50004812 0.84963728 0.84963728]. \n",
      "Current patch size: [128 112 160]. \n",
      "Current median shape: [204.79341832 201.19353402 306.39015319]\n",
      "Attempting to find 3d_lowres config. \n",
      "Current spacing: [1.54504956 0.87512639 0.87512639]. \n",
      "Current patch size: [128 112 160]. \n",
      "Current median shape: [198.82856148 195.33352817 297.46616815]\n",
      "Attempting to find 3d_lowres config. \n",
      "Current spacing: [1.59140105 0.90138019 0.90138019]. \n",
      "Current patch size: [128 112 160]. \n",
      "Current median shape: [193.03743833 189.64420211 288.802105  ]\n",
      "Attempting to find 3d_lowres config. \n",
      "Current spacing: [1.63914308 0.92842159 0.92842159]. \n",
      "Current patch size: [128 112 160]. \n",
      "Current median shape: [187.41498867 184.12058457 280.3903932 ]\n",
      "Attempting to find 3d_lowres config. \n",
      "Current spacing: [1.68831737 0.95627424 0.95627424]. \n",
      "Current patch size: [128 112 160]. \n",
      "Current median shape: [181.95629968 178.7578491  272.22368272]\n",
      "2D U-Net configuration:\n",
      "{'data_identifier': 'nnUNetPlans_2d', 'preprocessor_name': 'DefaultPreprocessor', 'batch_size': 13, 'patch_size': array([384, 640]), 'median_image_size_in_voxels': array([503., 766.]), 'spacing': array([0.33984399, 0.33984399]), 'normalization_schemes': ['CTNormalization'], 'use_mask_for_norm': [False], 'UNet_class_name': 'PlainConvUNet', 'UNet_base_num_features': 32, 'n_conv_per_stage_encoder': (2, 2, 2, 2, 2, 2, 2), 'n_conv_per_stage_decoder': (2, 2, 2, 2, 2, 2), 'num_pool_per_axis': [6, 6], 'pool_op_kernel_sizes': [[1, 1], [2, 2], [2, 2], [2, 2], [2, 2], [2, 2], [2, 2]], 'conv_kernel_sizes': [[3, 3], [3, 3], [3, 3], [3, 3], [3, 3], [3, 3], [3, 3]], 'unet_max_num_features': 512, 'resampling_fn_data': 'resample_data_or_seg_to_shape', 'resampling_fn_seg': 'resample_data_or_seg_to_shape', 'resampling_fn_data_kwargs': {'is_seg': False, 'order': 3, 'order_z': 0, 'force_separate_z': None}, 'resampling_fn_seg_kwargs': {'is_seg': True, 'order': 1, 'order_z': 0, 'force_separate_z': None}, 'resampling_fn_probabilities': 'resample_data_or_seg_to_shape', 'resampling_fn_probabilities_kwargs': {'is_seg': False, 'order': 1, 'order_z': 0, 'force_separate_z': None}, 'batch_dice': True}\n",
      "\n",
      "Using <class 'nnunetv2.imageio.simpleitk_reader_writer.SimpleITKIO'> as reader/writer\n",
      "3D lowres U-Net configuration:\n",
      "{'data_identifier': 'nnUNetPlans_3d_lowres', 'preprocessor_name': 'DefaultPreprocessor', 'batch_size': 2, 'patch_size': array([128, 112, 160]), 'median_image_size_in_voxels': [182, 179, 272], 'spacing': array([1.68831737, 0.95627424, 0.95627424]), 'normalization_schemes': ['CTNormalization'], 'use_mask_for_norm': [False], 'UNet_class_name': 'PlainConvUNet', 'UNet_base_num_features': 32, 'n_conv_per_stage_encoder': (2, 2, 2, 2, 2, 2), 'n_conv_per_stage_decoder': (2, 2, 2, 2, 2), 'num_pool_per_axis': [5, 4, 5], 'pool_op_kernel_sizes': [[1, 1, 1], [2, 2, 2], [2, 2, 2], [2, 2, 2], [2, 2, 2], [2, 1, 2]], 'conv_kernel_sizes': [[3, 3, 3], [3, 3, 3], [3, 3, 3], [3, 3, 3], [3, 3, 3], [3, 3, 3]], 'unet_max_num_features': 320, 'resampling_fn_data': 'resample_data_or_seg_to_shape', 'resampling_fn_seg': 'resample_data_or_seg_to_shape', 'resampling_fn_data_kwargs': {'is_seg': False, 'order': 3, 'order_z': 0, 'force_separate_z': None}, 'resampling_fn_seg_kwargs': {'is_seg': True, 'order': 1, 'order_z': 0, 'force_separate_z': None}, 'resampling_fn_probabilities': 'resample_data_or_seg_to_shape', 'resampling_fn_probabilities_kwargs': {'is_seg': False, 'order': 1, 'order_z': 0, 'force_separate_z': None}, 'batch_dice': False, 'next_stage': '3d_cascade_fullres'}\n",
      "\n",
      "3D fullres U-Net configuration:\n",
      "{'data_identifier': 'nnUNetPlans_3d_fullres', 'preprocessor_name': 'DefaultPreprocessor', 'batch_size': 2, 'patch_size': array([128, 112, 160]), 'median_image_size_in_voxels': array([512., 503., 766.]), 'spacing': array([0.59999996, 0.33984399, 0.33984399]), 'normalization_schemes': ['CTNormalization'], 'use_mask_for_norm': [False], 'UNet_class_name': 'PlainConvUNet', 'UNet_base_num_features': 32, 'n_conv_per_stage_encoder': (2, 2, 2, 2, 2, 2), 'n_conv_per_stage_decoder': (2, 2, 2, 2, 2), 'num_pool_per_axis': [5, 4, 5], 'pool_op_kernel_sizes': [[1, 1, 1], [2, 2, 2], [2, 2, 2], [2, 2, 2], [2, 2, 2], [2, 1, 2]], 'conv_kernel_sizes': [[3, 3, 3], [3, 3, 3], [3, 3, 3], [3, 3, 3], [3, 3, 3], [3, 3, 3]], 'unet_max_num_features': 320, 'resampling_fn_data': 'resample_data_or_seg_to_shape', 'resampling_fn_seg': 'resample_data_or_seg_to_shape', 'resampling_fn_data_kwargs': {'is_seg': False, 'order': 3, 'order_z': 0, 'force_separate_z': None}, 'resampling_fn_seg_kwargs': {'is_seg': True, 'order': 1, 'order_z': 0, 'force_separate_z': None}, 'resampling_fn_probabilities': 'resample_data_or_seg_to_shape', 'resampling_fn_probabilities_kwargs': {'is_seg': False, 'order': 1, 'order_z': 0, 'force_separate_z': None}, 'batch_dice': True}\n",
      "\n",
      "Plans were saved to /workspace/2024-25ab-fai3-specialisation-project-team-specifix-1/data/segmentation/nnUNet_preprocessed/Dataset064_p1DR1_h2/nnUNetPlans.json\n",
      "Preprocessing...\n",
      "Preprocessing dataset Dataset064_p1DR1_h2\n",
      "Configuration: 3d_fullres...\n",
      "100%|███████████████████████████████████████████| 39/39 [21:50<00:00, 33.60s/it]\n"
     ]
    }
   ],
   "source": [
    "!poetry run nnUNetv2_plan_and_preprocess -d 064 --verify_dataset_integrity -c 3d_fullres"
   ]
  },
  {
   "cell_type": "code",
   "execution_count": 5,
   "id": "fe72aa89-d00d-4e67-ba4f-c5363cb7f5ac",
   "metadata": {},
   "outputs": [
    {
     "name": "stdout",
     "output_type": "stream",
     "text": [
      "Using GPU is CUDA:2\n",
      "CUDA:0 NVIDIA RTX A6000, 48669.75MB\n"
     ]
    }
   ],
   "source": [
    "import os\n",
    "import torch\n",
    "\n",
    "os.environ[\"CUDA_VISIBLE_DEVICES\"] = \"2\"\n",
    "\n",
    "print(f\"Using GPU is CUDA:{os.environ['CUDA_VISIBLE_DEVICES']}\")\n",
    "\n",
    "for i in range(torch.cuda.device_count()):\n",
    "    info = torch.cuda.get_device_properties(i)\n",
    "    print(f\"CUDA:{i} {info.name}, {info.total_memory / 1024 ** 2}MB\")"
   ]
  },
  {
   "cell_type": "code",
   "execution_count": null,
   "id": "6487c1ef-3b00-46b7-96e3-75db39e5fe18",
   "metadata": {
    "scrolled": true
   },
   "outputs": [
    {
     "name": "stdout",
     "output_type": "stream",
     "text": [
      "Using device: cuda:0\n",
      "\n",
      "#######################################################################\n",
      "Please cite the following paper when using nnU-Net:\n",
      "Isensee, F., Jaeger, P. F., Kohl, S. A., Petersen, J., & Maier-Hein, K. H. (2021). nnU-Net: a self-configuring method for deep learning-based biomedical image segmentation. Nature methods, 18(2), 203-211.\n",
      "#######################################################################\n",
      "\n",
      "/root/.cache/pypoetry/virtualenvs/specifix-pAjDTqDi-py3.9/lib/python3.9/site-packages/torch/optim/lr_scheduler.py:28: UserWarning: The verbose parameter is deprecated. Please use get_last_lr() to access the learning rate.\n",
      "  warnings.warn(\"The verbose parameter is deprecated. Please use get_last_lr() \"\n",
      "\n",
      "This is the configuration used by this training:\n",
      "Configuration name: 3d_fullres\n",
      " {'data_identifier': 'nnUNetPlans_3d_fullres', 'preprocessor_name': 'DefaultPreprocessor', 'batch_size': 2, 'patch_size': [128, 112, 160], 'median_image_size_in_voxels': [512.0, 503.0, 766.0], 'spacing': [0.5999999642372131, 0.3398439884185791, 0.3398439884185791], 'normalization_schemes': ['CTNormalization'], 'use_mask_for_norm': [False], 'UNet_class_name': 'PlainConvUNet', 'UNet_base_num_features': 32, 'n_conv_per_stage_encoder': [2, 2, 2, 2, 2, 2], 'n_conv_per_stage_decoder': [2, 2, 2, 2, 2], 'num_pool_per_axis': [5, 4, 5], 'pool_op_kernel_sizes': [[1, 1, 1], [2, 2, 2], [2, 2, 2], [2, 2, 2], [2, 2, 2], [2, 1, 2]], 'conv_kernel_sizes': [[3, 3, 3], [3, 3, 3], [3, 3, 3], [3, 3, 3], [3, 3, 3], [3, 3, 3]], 'unet_max_num_features': 320, 'resampling_fn_data': 'resample_data_or_seg_to_shape', 'resampling_fn_seg': 'resample_data_or_seg_to_shape', 'resampling_fn_data_kwargs': {'is_seg': False, 'order': 3, 'order_z': 0, 'force_separate_z': None}, 'resampling_fn_seg_kwargs': {'is_seg': True, 'order': 1, 'order_z': 0, 'force_separate_z': None}, 'resampling_fn_probabilities': 'resample_data_or_seg_to_shape', 'resampling_fn_probabilities_kwargs': {'is_seg': False, 'order': 1, 'order_z': 0, 'force_separate_z': None}, 'batch_dice': True} \n",
      "\n",
      "These are the global plan.json settings:\n",
      " {'dataset_name': 'Dataset064_p1DR1_h2', 'plans_name': 'nnUNetPlans', 'original_median_spacing_after_transp': [0.5999999642372131, 0.3398439884185791, 0.3398439884185791], 'original_median_shape_after_transp': [512, 512, 648], 'image_reader_writer': 'SimpleITKIO', 'transpose_forward': [0, 1, 2], 'transpose_backward': [0, 1, 2], 'experiment_planner_used': 'ExperimentPlanner', 'label_manager': 'LabelManager', 'foreground_intensity_properties_per_channel': {'0': {'max': 3567.0, 'mean': 1606.1790771484375, 'median': 1514.0, 'min': 1189.0, 'percentile_00_5': 1252.0, 'percentile_99_5': 2880.0, 'std': 322.97247314453125}}} \n",
      "\n",
      "2024-11-29 11:22:24.540325: unpacking dataset...\n",
      "2024-11-29 11:22:51.401234: unpacking done...\n",
      "2024-11-29 11:22:51.402300: do_dummy_2d_data_aug: False\n",
      "2024-11-29 11:22:51.403094: Creating new 5-fold cross-validation split...\n",
      "2024-11-29 11:22:51.404414: Desired fold for training: 0\n",
      "2024-11-29 11:22:51.404487: This split has 31 training and 8 validation cases.\n",
      "2024-11-29 11:22:51.446846: Unable to plot network architecture:\n",
      "2024-11-29 11:22:51.446957: No module named 'hiddenlayer'\n",
      "2024-11-29 11:22:51.476798: \n",
      "2024-11-29 11:22:51.476924: Epoch 0\n",
      "2024-11-29 11:22:51.477144: Current learning rate: 0.01\n",
      "using pin_memory on device 0\n",
      "using pin_memory on device 0\n",
      "2024-11-29 11:23:55.328069: train_loss 0.0274\n",
      "2024-11-29 11:23:55.328384: val_loss -0.0075\n",
      "2024-11-29 11:23:55.328489: Pseudo dice [0.0]\n",
      "2024-11-29 11:23:55.328606: Epoch time: 63.85 s\n",
      "2024-11-29 11:23:55.328703: Yayy! New best EMA pseudo Dice: 0.0\n",
      "2024-11-29 11:23:57.440929: \n",
      "2024-11-29 11:23:57.441316: Epoch 1\n",
      "2024-11-29 11:23:57.441601: Current learning rate: 0.00999\n"
     ]
    }
   ],
   "source": [
    "!poetry run nnUNetv2_train 064 3d_fullres 0"
   ]
  },
  {
   "cell_type": "code",
   "execution_count": null,
   "id": "53e8cb31-d9f2-4626-b6ad-0ed34763a7a5",
   "metadata": {},
   "outputs": [],
   "source": []
  }
 ],
 "metadata": {
  "kernelspec": {
   "display_name": "Python (Poetry)",
   "language": "python",
   "name": "poetry-env"
  },
  "language_info": {
   "codemirror_mode": {
    "name": "ipython",
    "version": 3
   },
   "file_extension": ".py",
   "mimetype": "text/x-python",
   "name": "python",
   "nbconvert_exporter": "python",
   "pygments_lexer": "ipython3",
   "version": "3.9.20"
  }
 },
 "nbformat": 4,
 "nbformat_minor": 5
}
