{
 "cells": [
  {
   "cell_type": "code",
   "execution_count": 8,
   "metadata": {},
   "outputs": [],
   "source": [
    "# Filename of the object to extract center of volume\n",
    "filename_center_volume = 'frag_05.obj'\n",
    "\n",
    "#Filename of the object to adjust the center of volume\n",
    "filename_center_volume_adjust = 'frag_05.obj'\n",
    "\n",
    "# Filepath to save altered obj file\n",
    "filename_center_volume_adjust_save = 'Data/Test1/'\n",
    "\n",
    "\n",
    "# Obj data path\n",
    "obj_path = \"Data/obj/\""
   ]
  },
  {
   "cell_type": "code",
   "execution_count": 3,
   "metadata": {},
   "outputs": [
    {
     "name": "stdout",
     "output_type": "stream",
     "text": [
      "Center of Volume: (15.79782017681338, -74.92390224212575, 232.4396864041462)\n"
     ]
    }
   ],
   "source": [
    "def find_center_of_volume(obj_file):\n",
    "    \"\"\"\n",
    "    Find the center of volume (centroid) of an object from an .obj file.\n",
    "    \n",
    "    :param obj_file: Path to the .obj file.\n",
    "    :return: A tuple (x_center, y_center, z_center) representing the center of volume.\n",
    "    \"\"\"\n",
    "    x_total = 0\n",
    "    y_total = 0\n",
    "    z_total = 0\n",
    "    num_vertices = 0\n",
    "\n",
    "    with open(obj_file, 'r') as file:\n",
    "        for line in file:\n",
    "            if line.startswith('v '):  # Vertex line\n",
    "                parts = line.split()\n",
    "                x, y, z = map(float, parts[1:4])\n",
    "                x_total += x\n",
    "                y_total += y\n",
    "                z_total += z\n",
    "                num_vertices += 1\n",
    "\n",
    "    if num_vertices == 0:\n",
    "        raise ValueError(\"No vertex data found in the .obj file.\")\n",
    "\n",
    "    x_center = x_total / num_vertices\n",
    "    y_center = y_total / num_vertices\n",
    "    z_center = z_total / num_vertices\n",
    "\n",
    "    return (x_center, y_center, z_center)\n",
    "\n",
    "# Example usage:\n",
    "center_of_volume = find_center_of_volume(f\"{obj_path}{filename_center_volume}\")\n",
    "print(f\"Center of Volume: {center_of_volume}\")\n"
   ]
  },
  {
   "cell_type": "code",
   "execution_count": 4,
   "metadata": {},
   "outputs": [],
   "source": [
    "i = 0\n",
    "center_of_volume = list(center_of_volume)\n",
    "for x in center_of_volume:\n",
    "    center_of_volume[i] = x * -1\n",
    "    i += 1\n"
   ]
  },
  {
   "cell_type": "code",
   "execution_count": 5,
   "metadata": {},
   "outputs": [],
   "source": [
    "center_of_volume = tuple(center_of_volume)"
   ]
  },
  {
   "cell_type": "code",
   "execution_count": 6,
   "metadata": {},
   "outputs": [
    {
     "data": {
      "text/plain": [
       "(-15.79782017681338, 74.92390224212575, -232.4396864041462)"
      ]
     },
     "execution_count": 6,
     "metadata": {},
     "output_type": "execute_result"
    }
   ],
   "source": [
    "center_of_volume"
   ]
  },
  {
   "cell_type": "code",
   "execution_count": 9,
   "metadata": {},
   "outputs": [],
   "source": [
    "def shift_obj_file(input_file, output_file, shift_vector):\n",
    "    \"\"\"\n",
    "    Shift the origin of an .obj file by modifying vertex coordinates.\n",
    "    \n",
    "    :param input_file: Path to the input .obj file.\n",
    "    :param output_file: Path to the output .obj file.\n",
    "    :param shift_vector: A tuple (x_shift, y_shift, z_shift) to shift the origin.\n",
    "    \"\"\"\n",
    "    x_shift, y_shift, z_shift = shift_vector\n",
    "\n",
    "    with open(input_file, 'r') as file:\n",
    "        lines = file.readlines()\n",
    "\n",
    "    with open(output_file, 'w') as file:\n",
    "        for line in lines:\n",
    "            if line.startswith('v '):  # Vertex line\n",
    "                parts = line.split()\n",
    "                x, y, z = map(float, parts[1:4])\n",
    "                x += x_shift\n",
    "                y += y_shift\n",
    "                z += z_shift\n",
    "                file.write(f'v {x} {y} {z}\\n')\n",
    "            else:\n",
    "                file.write(line)  # Write non-vertex lines unchanged\n",
    "\n",
    "# Example usage:\n",
    "input_obj_file = f\"{obj_path}{filename_center_volume}\"\n",
    "output_obj_file = f\"{filename_center_volume_adjust_save}{filename_center_volume_adjust}\"\n",
    "shift_vector = center_of_volume  # No shift (use (x, y, z) to shift origin)\n",
    "\n",
    "shift_obj_file(input_obj_file, output_obj_file, (center_of_volume))\n"
   ]
  }
 ],
 "metadata": {
  "kernelspec": {
   "display_name": "Specifix-Reinforcement",
   "language": "python",
   "name": "python3"
  },
  "language_info": {
   "codemirror_mode": {
    "name": "ipython",
    "version": 3
   },
   "file_extension": ".py",
   "mimetype": "text/x-python",
   "name": "python",
   "nbconvert_exporter": "python",
   "pygments_lexer": "ipython3",
   "version": "3.9.0"
  }
 },
 "nbformat": 4,
 "nbformat_minor": 2
}
