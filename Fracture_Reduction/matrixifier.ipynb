{
 "cells": [
  {
   "cell_type": "code",
   "execution_count": 1,
   "metadata": {},
   "outputs": [],
   "source": [
    "import trimesh\n",
    "import matplotlib.pyplot as plt\n",
    "import numpy as np\n",
    "import random\n",
    "import os\n",
    "from tqdm import tqdm"
   ]
  },
  {
   "cell_type": "code",
   "execution_count": 2,
   "metadata": {},
   "outputs": [],
   "source": [
    "def get_voxel_matrix(mesh):\n",
    "    # Perform voxelization and convert to float32 directly\n",
    "    voxel = mesh.voxelized(pitch=1.0 / 64)\n",
    "    voxel_matrix = voxel.matrix.astype(np.float32)\n",
    "\n",
    "    # Check dimensions of voxel_matrix\n",
    "    if voxel_matrix.shape[0] > 256 or voxel_matrix.shape[1] > 256 or voxel_matrix.shape[2] > 256:\n",
    "        return [None]\n",
    "\n",
    "    # Initialize a padded matrix with zeros and copy voxel_matrix into it\n",
    "    padded_matrix = np.zeros((256, 256, 256), dtype=np.float32)\n",
    "    padded_matrix[:voxel_matrix.shape[0], :voxel_matrix.shape[1], :voxel_matrix.shape[2]] = voxel_matrix\n",
    "\n",
    "    # Directly create the VoxelGrid from the padded matrix\n",
    "    padded_voxelized = trimesh.voxel.VoxelGrid(padded_matrix)\n",
    "    \n",
    "    return padded_voxelized.matrix.astype(np.float32)\n",
    "\n",
    "def create_view(voxel_matrix):\n",
    "    # Use np.moveaxis for better performance instead of separate lists\n",
    "    # This reduces the number of loops and utilizes NumPy's efficient operations\n",
    "    views = np.moveaxis(voxel_matrix, 0, -1)\n",
    "\n",
    "    # Prepare the first_view with shape (256, 256, 256, 3)\n",
    "    first_view = np.zeros((256, 256, 256, 3), dtype=np.float32)\n",
    "    first_view[..., 0] = views[:, :, 0]  # Axial\n",
    "    first_view[..., 1] = views[:, 0, :]  # Sagittal\n",
    "    first_view[..., 2] = views[0, :, :]  # Coronal\n",
    "    \n",
    "    return first_view"
   ]
  },
  {
   "cell_type": "code",
   "execution_count": 3,
   "metadata": {},
   "outputs": [
    {
     "data": {
      "text/plain": [
       "\"os.makedirs('voxel_dataset/train/', exist_ok=True)\\nos.makedirs('voxel_dataset/ground_truth/', exist_ok=True)\\n\\ntrain_path = 'mesh_dataset/dataset_3d/train/'\\nground_truth_path = 'mesh_dataset/dataset_3d/ground_truth/'\\n\\nfor filename in tqdm(os.listdir(train_path)):\\n    if filename.endswith('.DS_Store'):\\n        continue\\n    else:\\n        mesh = trimesh.load(train_path + filename)\\n        voxel_matrix = get_voxel_matrix(mesh)\\n        if None in voxel_matrix:\\n            continue\\n        else:\\n            view = create_view(voxel_matrix)\\n            np.save('voxel_dataset/train/'+filename, view)\\n    \\n            truth_mesh = trimesh.load(train_path + filename)\\n            try:\\n                truth_voxel_matrix = get_voxel_matrix(mesh)\\n                truth_view = create_view(truth_voxel_matrix)\\n                np.save('voxel_dataset/ground_truth/'+filename, view)\\n            except:\\n                continue\\n    \""
      ]
     },
     "execution_count": 3,
     "metadata": {},
     "output_type": "execute_result"
    }
   ],
   "source": [
    "\"\"\"os.makedirs('voxel_dataset/train/', exist_ok=True)\n",
    "os.makedirs('voxel_dataset/ground_truth/', exist_ok=True)\n",
    "\n",
    "train_path = 'mesh_dataset/dataset_3d/train/'\n",
    "ground_truth_path = 'mesh_dataset/dataset_3d/ground_truth/'\n",
    "\n",
    "for filename in tqdm(os.listdir(train_path)):\n",
    "    if filename.endswith('.DS_Store'):\n",
    "        continue\n",
    "    else:\n",
    "        mesh = trimesh.load(train_path + filename)\n",
    "        voxel_matrix = get_voxel_matrix(mesh)\n",
    "        if None in voxel_matrix:\n",
    "            continue\n",
    "        else:\n",
    "            view = create_view(voxel_matrix)\n",
    "            np.save('voxel_dataset/train/'+filename, view)\n",
    "    \n",
    "            truth_mesh = trimesh.load(train_path + filename)\n",
    "            try:\n",
    "                truth_voxel_matrix = get_voxel_matrix(mesh)\n",
    "                truth_view = create_view(truth_voxel_matrix)\n",
    "                np.save('voxel_dataset/ground_truth/'+filename, view)\n",
    "            except:\n",
    "                continue\n",
    "    \"\"\""
   ]
  },
  {
   "cell_type": "code",
   "execution_count": null,
   "metadata": {
    "scrolled": true
   },
   "outputs": [
    {
     "name": "stderr",
     "output_type": "stream",
     "text": [
      "  0%|          | 56/11977 [01:42<7:11:45,  2.17s/it]/opt/conda/lib/python3.10/site-packages/joblib/externals/loky/process_executor.py:752: UserWarning: A worker stopped while some jobs were given to the executor. This can be caused by a too short worker timeout or by a memory leak.\n",
      "  warnings.warn(\n",
      "  1%|          | 120/11977 [03:34<5:31:18,  1.68s/it]"
     ]
    }
   ],
   "source": [
    "import os\n",
    "import numpy as np\n",
    "import trimesh\n",
    "from joblib import Parallel, delayed\n",
    "from tqdm import tqdm\n",
    "\n",
    "def get_voxel_matrix(mesh):\n",
    "    # Perform voxelization and convert to float32 directly\n",
    "    voxel = mesh.voxelized(pitch=1.0 / 64)\n",
    "    voxel_matrix = voxel.matrix.astype(np.float32)\n",
    "\n",
    "    # Check dimensions of voxel_matrix\n",
    "    if voxel_matrix.shape[0] > 256 or voxel_matrix.shape[1] > 256 or voxel_matrix.shape[2] > 256:\n",
    "        return None\n",
    "\n",
    "    # Initialize a padded matrix with zeros and copy voxel_matrix into it\n",
    "    padded_matrix = np.zeros((256, 256, 256), dtype=np.float32)\n",
    "    padded_matrix[:voxel_matrix.shape[0], :voxel_matrix.shape[1], :voxel_matrix.shape[2]] = voxel_matrix\n",
    "\n",
    "    # Directly create the VoxelGrid from the padded matrix\n",
    "    padded_voxelized = trimesh.voxel.VoxelGrid(padded_matrix)\n",
    "    \n",
    "    return padded_voxelized.matrix.astype(np.float32)\n",
    "\n",
    "def create_view(voxel_matrix):\n",
    "    # Use np.moveaxis for better performance instead of separate lists\n",
    "    views = np.moveaxis(voxel_matrix, 0, -1)\n",
    "\n",
    "    # Prepare the first_view with shape (256, 256, 256, 3)\n",
    "    first_view = np.zeros((256, 256, 256, 3), dtype=np.float32)\n",
    "    first_view[..., 0] = views[:, :, 0]  # Axial\n",
    "    first_view[..., 1] = views[:, 0, :]  # Sagittal\n",
    "    first_view[..., 2] = views[0, :, :]  # Coronal\n",
    "    \n",
    "    return first_view\n",
    "\n",
    "import gc\n",
    "\n",
    "def process_mesh_file(filename, train_path):\n",
    "    try:\n",
    "        # Load mesh and perform voxelization\n",
    "        mesh = trimesh.load(os.path.join(train_path, filename))\n",
    "        voxel_matrix = get_voxel_matrix(mesh)\n",
    "        \n",
    "        if voxel_matrix is None:\n",
    "            return None, None\n",
    "\n",
    "        # Create view from voxel matrix\n",
    "        view = create_view(voxel_matrix)\n",
    "\n",
    "        # Process ground truth similarly\n",
    "        truth_mesh = trimesh.load(os.path.join(train_path, filename))\n",
    "        truth_voxel_matrix = get_voxel_matrix(truth_mesh)\n",
    "        \n",
    "        if truth_voxel_matrix is None:\n",
    "            return None, None\n",
    "\n",
    "        truth_view = create_view(truth_voxel_matrix)\n",
    "\n",
    "        # Free memory explicitly\n",
    "        del mesh, voxel_matrix, truth_mesh, truth_voxel_matrix\n",
    "        gc.collect()  # Force garbage collection\n",
    "        return view, truth_view\n",
    "\n",
    "    except Exception as e:\n",
    "        print(f\"Error processing {filename}: {e}\")\n",
    "        return None, None\n",
    "\n",
    "def main():\n",
    "    os.makedirs('voxel_dataset/train/', exist_ok=True)\n",
    "    os.makedirs('voxel_dataset/ground_truth/', exist_ok=True)\n",
    "\n",
    "    train_path = 'mesh_dataset/dataset_3d/train/'\n",
    "    \n",
    "    # List mesh files in the training directory\n",
    "    mesh_files = [f for f in os.listdir(train_path) if not f.endswith('.DS_Store')]\n",
    "\n",
    "    # Process mesh files in parallel\n",
    "    results = Parallel(n_jobs=8)(delayed(process_mesh_file)(filename, train_path) for filename in tqdm(mesh_files))\n",
    "\n",
    "    for filename, (view, truth_view) in zip(mesh_files, results):\n",
    "        if view is not None and truth_view is not None:\n",
    "            np.save(os.path.join('voxel_dataset/train/', filename), view)\n",
    "            np.save(os.path.join('voxel_dataset/ground_truth/', filename), truth_view)\n",
    "\n",
    "if __name__ == \"__main__\":\n",
    "    main()"
   ]
  },
  {
   "cell_type": "code",
   "execution_count": null,
   "metadata": {},
   "outputs": [],
   "source": [
    "print(\"done\")"
   ]
  },
  {
   "cell_type": "code",
   "execution_count": null,
   "metadata": {},
   "outputs": [],
   "source": []
  }
 ],
 "metadata": {
  "kernelspec": {
   "display_name": "Python 3 (ipykernel)",
   "language": "python",
   "name": "python3"
  },
  "language_info": {
   "codemirror_mode": {
    "name": "ipython",
    "version": 3
   },
   "file_extension": ".py",
   "mimetype": "text/x-python",
   "name": "python",
   "nbconvert_exporter": "python",
   "pygments_lexer": "ipython3",
   "version": "3.10.14"
  }
 },
 "nbformat": 4,
 "nbformat_minor": 4
}
