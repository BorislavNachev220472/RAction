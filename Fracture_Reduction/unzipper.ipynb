{
 "cells": [
  {
   "cell_type": "code",
   "execution_count": 1,
   "id": "f46146dd-495b-486a-bc11-3a43bc8b7cd8",
   "metadata": {},
   "outputs": [
    {
     "name": "stdout",
     "output_type": "stream",
     "text": [
      "Archive file unpacked successfully.\n"
     ]
    }
   ],
   "source": [
    "import shutil\n",
    "\n",
    "# Full path of\n",
    "# the archive file\n",
    "filename = \"dataset_3d.zip\"\n",
    "\n",
    "# Target directory\n",
    "extract_dir = \"mesh_dataset\"\n",
    "\n",
    "# Format of archive file\n",
    "archive_format = \"zip\"\n",
    "\n",
    "# Unpack the archive file\n",
    "shutil.unpack_archive(filename, extract_dir, archive_format)\n",
    "print(\"Archive file unpacked successfully.\")"
   ]
  },
  {
   "cell_type": "code",
   "execution_count": null,
   "id": "bde0fa04-c7c2-40d1-b359-b9d1bb46b843",
   "metadata": {},
   "outputs": [],
   "source": []
  }
 ],
 "metadata": {
  "kernelspec": {
   "display_name": "Python 3 (ipykernel)",
   "language": "python",
   "name": "python3"
  },
  "language_info": {
   "codemirror_mode": {
    "name": "ipython",
    "version": 3
   },
   "file_extension": ".py",
   "mimetype": "text/x-python",
   "name": "python",
   "nbconvert_exporter": "python",
   "pygments_lexer": "ipython3",
   "version": "3.10.14"
  }
 },
 "nbformat": 4,
 "nbformat_minor": 5
}
